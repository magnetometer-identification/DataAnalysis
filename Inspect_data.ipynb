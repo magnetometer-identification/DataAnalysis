{
 "cells": [
  {
   "cell_type": "code",
   "execution_count": 24,
   "metadata": {},
   "outputs": [],
   "source": [
    "import json\n",
    "import pandas as pd\n",
    "data_path = \"data\"\n",
    "file = \"Data_808ab033-5ecb-464e-9468-f0dd985a7fd0_1_3.json\"\n",
    "\n",
    "# file = \"Data_808ab033-5ecb-464e-9468-f0dd985a7fd0_3_neja.json\"\n",
    "data = json.load(open(f\"{data_path}/{file}\", \"r\"))[0]"
   ]
  },
  {
   "cell_type": "code",
   "execution_count": 43,
   "metadata": {},
   "outputs": [
    {
     "name": "stdout",
     "output_type": "stream",
     "text": [
      "dict_keys(['DEVICE_ID_AWARE', 'stage', 'X_AWARE', 'Y_AWARE', 'Z_AWARE', 'time_AWARE', 'X_UnCal', 'Y_UnCal', 'Z_UnCal', 'X_Bias', 'Y_Bias', 'Z_Bias', 'time_uncalibrated'])\n",
      "key='X_AWARE', len(value)=178\n",
      "key='Y_AWARE', len(value)=178\n",
      "key='Z_AWARE', len(value)=178\n",
      "key='time_AWARE', len(value)=178\n",
      "key='X_UnCal', len(value)=125\n",
      "key='Y_UnCal', len(value)=125\n",
      "key='Z_UnCal', len(value)=125\n",
      "key='X_Bias', len(value)=125\n",
      "key='Y_Bias', len(value)=125\n",
      "key='Z_Bias', len(value)=125\n",
      "key='time_uncalibrated', len(value)=125\n"
     ]
    }
   ],
   "source": [
    "# generating dataset\n",
    "first_timestamp_miliseconds = data[\"time_AWARE\"][0]\n",
    "last_timestamp_miliseconds = data[\"time_AWARE\"][-1]\n",
    "time_diff_miliseconds =  last_timestamp_miliseconds - first_timestamp_miliseconds\n",
    "n_uncalibrated_samples = len(data[\"X_UnCal\"])\n",
    "diff = time_diff_miliseconds / (n_uncalibrated_samples -1)\n",
    "data[\"time_uncalibrated\"] = [first_timestamp_miliseconds + i * diff for i in range(n_uncalibrated_samples)]\n",
    "print(data.keys())\n",
    "for key,value in data.items():\n",
    "    if key not in {'DEVICE_ID_AWARE', 'stage'}:\n",
    "        print(f\"{key=}, {len(value)=}\")\n",
    "df_AWARE = pd.DataFrame({k: data[k] for k in [\"X_AWARE\", \"Y_AWARE\", \"Z_AWARE\", \"time_AWARE\"]})\n",
    "df_uncalibrated = pd.DataFrame({k: data[k] for k in [\"X_UnCal\", \"Y_UnCal\", \"Z_UnCal\", \"X_Bias\", \"Y_Bias\", \"Z_Bias\", \"time_uncalibrated\"]})"
   ]
  },
  {
   "cell_type": "code",
   "execution_count": 44,
   "metadata": {},
   "outputs": [
    {
     "name": "stdout",
     "output_type": "stream",
     "text": [
      "       X_AWARE    Y_AWARE    Z_AWARE    time_AWARE\n",
      "0   -31.740000 -94.199997 -19.320000  1.669600e+12\n",
      "1    14.639999 -12.120000 -25.559999  1.669600e+12\n",
      "2    14.639999 -12.360000 -25.320000  1.669600e+12\n",
      "3    14.639999 -12.900000 -25.320000  1.669600e+12\n",
      "4    14.340000 -13.860000 -25.080000  1.669600e+12\n",
      "..         ...        ...        ...           ...\n",
      "173  14.340000  -8.099999 -26.519999  1.669600e+12\n",
      "174  13.980000  -8.160000 -26.760000  1.669600e+12\n",
      "175  14.340000  -8.280000 -26.160000  1.669600e+12\n",
      "176  14.160000  -8.099999 -26.160000  1.669600e+12\n",
      "177  13.740000  -8.580000 -25.920000  1.669600e+12\n",
      "\n",
      "[178 rows x 4 columns]\n"
     ]
    }
   ],
   "source": [
    "print(df_AWARE)"
   ]
  },
  {
   "cell_type": "code",
   "execution_count": 45,
   "metadata": {},
   "outputs": [
    {
     "name": "stdout",
     "output_type": "stream",
     "text": [
      "       X_UnCal    Y_UnCal    Z_UnCal  X_Bias     Y_Bias     Z_Bias  \\\n",
      "0    52.860000 -27.000000 -60.239998    40.5 -13.679999 -33.719997   \n",
      "1    54.300000 -27.300000 -59.820000    40.5 -13.679999 -33.719997   \n",
      "2    54.360000 -27.779999 -59.460000    40.5 -13.679999 -33.719997   \n",
      "3    54.360000 -27.900000 -59.760000    40.5 -13.679999 -33.719997   \n",
      "4    54.180000 -27.060000 -59.699997    40.5 -13.679999 -33.719997   \n",
      "..         ...        ...        ...     ...        ...        ...   \n",
      "120  54.840000 -21.779999 -60.239998    40.5 -13.679999 -33.719997   \n",
      "121  54.480000 -21.840000 -60.480000    40.5 -13.679999 -33.719997   \n",
      "122  54.840000 -21.960000 -59.879997    40.5 -13.679999 -33.719997   \n",
      "123  54.660000 -21.779999 -59.879997    40.5 -13.679999 -33.719997   \n",
      "124  54.239998 -22.260000 -59.640000    40.5 -13.679999 -33.719997   \n",
      "\n",
      "     time_uncalibrated  \n",
      "0         1.669600e+12  \n",
      "1         1.669600e+12  \n",
      "2         1.669600e+12  \n",
      "3         1.669600e+12  \n",
      "4         1.669600e+12  \n",
      "..                 ...  \n",
      "120       1.669600e+12  \n",
      "121       1.669600e+12  \n",
      "122       1.669600e+12  \n",
      "123       1.669600e+12  \n",
      "124       1.669600e+12  \n",
      "\n",
      "[125 rows x 7 columns]\n"
     ]
    }
   ],
   "source": [
    "print(df_uncalibrated)"
   ]
  }
 ],
 "metadata": {
  "kernelspec": {
   "display_name": "Python 3.10.6 64-bit",
   "language": "python",
   "name": "python3"
  },
  "language_info": {
   "codemirror_mode": {
    "name": "ipython",
    "version": 3
   },
   "file_extension": ".py",
   "mimetype": "text/x-python",
   "name": "python",
   "nbconvert_exporter": "python",
   "pygments_lexer": "ipython3",
   "version": "3.10.6"
  },
  "orig_nbformat": 4,
  "vscode": {
   "interpreter": {
    "hash": "e7370f93d1d0cde622a1f8e1c04877d8463912d04d973331ad4851f04de6915a"
   }
  }
 },
 "nbformat": 4,
 "nbformat_minor": 2
}

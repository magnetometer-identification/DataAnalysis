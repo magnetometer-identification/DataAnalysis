{
 "cells": [
  {
   "cell_type": "code",
   "execution_count": 1,
   "metadata": {},
   "outputs": [
    {
     "name": "stdout",
     "output_type": "stream",
     "text": [
      "Created dir ../data/interim/v6\n"
     ]
    }
   ],
   "source": [
    "import json\n",
    "import pandas as pd\n",
    "import glob\n",
    "import uuid\n",
    "import os\n",
    "data_path = \"../data/raw/v6\"\n",
    "interim_data_path = \"../data/interim/v6\"\n",
    "if not os.path.isdir(interim_data_path):\n",
    "    print(\"Created dir\", interim_data_path)\n",
    "    os.makedirs(interim_data_path)\n"
   ]
  },
  {
   "cell_type": "code",
   "execution_count": 2,
   "metadata": {},
   "outputs": [],
   "source": [
    "files = glob.glob(f\"{data_path}/Data*.json\")\n",
    "#print(files)\n"
   ]
  },
  {
   "cell_type": "code",
   "execution_count": 3,
   "metadata": {},
   "outputs": [
    {
     "name": "stdout",
     "output_type": "stream",
     "text": [
      "1/16\n",
      "2/16\n",
      "3/16\n",
      "4/16\n",
      "5/16\n",
      "6/16\n",
      "7/16\n",
      "8/16\n",
      "9/16\n",
      "10/16\n",
      "11/16\n",
      "12/16\n",
      "13/16\n",
      "14/16\n",
      "15/16\n",
      "16/16\n"
     ]
    }
   ],
   "source": [
    "from lib import remove_from_string, location_mapping\n",
    "for i, file_name in enumerate(files):\n",
    "    data = json.load(open(file_name, \"r\"))[0]\n",
    "\n",
    "    test_name = file_name.split(\"_\")[3][:-5]\n",
    "    location = location_mapping.get(remove_from_string(test_name))\n",
    "   \n",
    "    df = pd.DataFrame({k: data[k] for k in [\"X_UnCal\", \"Y_UnCal\", \"Z_UnCal\", \"X_Bias\", \"Y_Bias\", \"Z_Bias\", \"time_UnCal\", \"Accuracy\"]})\n",
    "\n",
    "    device_id = data['DEVICE_ID']\n",
    "    stage = data[\"stage\"]\n",
    "    test_case_id = file_name.split('_')[-1].split('.')[0]\n",
    "\n",
    "    df['device_id'] = device_id\n",
    "    df['location'] = location\n",
    "    \n",
    "    df.to_csv(f\"{interim_data_path}/{device_id or 'no_id'}-stage_{stage}-{test_case_id}-{location}.csv\")\n",
    "    print(f\"{i+1}/{len(files)}\")\n"
   ]
  },
  {
   "cell_type": "code",
   "execution_count": 4,
   "metadata": {},
   "outputs": [
    {
     "name": "stdout",
     "output_type": "stream",
     "text": [
      "{'title': 'V6 data', 'description': 'V6 data for 2 stages (all_on, 6, all_off, 5) in DormRoom with Rotations', 'author': 'Milenko', 'places': ['DormRoom7'], 'place_mapping': {'PiXmilenkosRoomRotationsTable': 'DormRoom7'}, 'stages': 2, 'traffic': True, 'format': 'raw', 'phone_mapping': {'03575768cc23b2df': 'Google Pixel 6'}, 'created': '2023-01-11T14:31:20.625Z'}\n"
     ]
    }
   ],
   "source": [
    "# create metadata file\n",
    "metadata = json.load(open(f\"{data_path}/metadata.json\",\"r\"))\n",
    "print(metadata)\n",
    "metadata['format'] = \"interim\"\n",
    "\n",
    "# Serializing json\n",
    "json_object = json.dumps(metadata, indent=4)\n",
    " \n",
    "# Writing to sample.json\n",
    "with open(f\"{interim_data_path}/metadata.json\", \"w\") as outfile:\n",
    "    outfile.write(json_object)"
   ]
  }
 ],
 "metadata": {
  "kernelspec": {
   "display_name": "Python 3",
   "language": "python",
   "name": "python3"
  },
  "language_info": {
   "codemirror_mode": {
    "name": "ipython",
    "version": 3
   },
   "file_extension": ".py",
   "mimetype": "text/x-python",
   "name": "python",
   "nbconvert_exporter": "python",
   "pygments_lexer": "ipython3",
   "version": "3.10.6"
  },
  "orig_nbformat": 4,
  "vscode": {
   "interpreter": {
    "hash": "e7370f93d1d0cde622a1f8e1c04877d8463912d04d973331ad4851f04de6915a"
   }
  }
 },
 "nbformat": 4,
 "nbformat_minor": 2
}

{
 "cells": [
  {
   "cell_type": "code",
   "execution_count": 1,
   "metadata": {},
   "outputs": [],
   "source": [
    "import json\n",
    "import pandas as pd\n",
    "import glob\n",
    "import uuid\n",
    "import os\n",
    "data_path = \"../data/raw/v5\"\n",
    "interim_data_path = \"../data/interim/v5\"\n",
    "if not os.path.isdir(interim_data_path):\n",
    "    print(\"Created dir\", interim_data_path)\n",
    "    os.makedirs(interim_data_path)\n"
   ]
  },
  {
   "cell_type": "code",
   "execution_count": 2,
   "metadata": {},
   "outputs": [
    {
     "name": "stdout",
     "output_type": "stream",
     "text": [
      "['../data/raw/v5/Data_03575768cc23b2df_6_PiXmilenkosRoomTrafficTable6.json', '../data/raw/v5/Data_e08d976ac75c011e_5_spelaMilenkosRoomTrafficTable1.json', '../data/raw/v5/Data_029a77f196804217_5_LATERNAWithTraffic2.json', '../data/raw/v5/Data_029a77f196804217_5_milenkosRoomTrafficTable.json', '../data/raw/v5/Data_e08d976ac75c011e_6_spelaMilenkosRoomTrafficTable3.json', '../data/raw/v5/Data_e08d976ac75c011e_5_spelaMilenkosKitchenTrafficTable4.json', '../data/raw/v5/Data_029a77f196804217_5_milenkosRoomEithTrafficDifferentOrentationWithPousesInRuns3.json', '../data/raw/v5/Data_03575768cc23b2df_6_PiXmilenkosRoomTrafficTable2.json', '../data/raw/v5/Data_029a77f196804217_5_milenkosRoomTrafficBed2.json', '../data/raw/v5/Data_03575768cc23b2df_6_PiXmilenkosRoomTrafficTable7.json', '../data/raw/v5/Data_029a77f196804217_6_milenkosRoomWithTrafficDifferentOrentationWithPousesInRuns2.json', '../data/raw/v5/Data_4aaf95a621ccf092_6_NadasLivingRoomWithTrafficOrient2.json', '../data/raw/v5/Data_029a77f196804217_6_milenkosRoomTrafficBed1.json', '../data/raw/v5/Data_e08d976ac75c011e_5_spelaMilenkosKitchenTrafficTable3.json', '../data/raw/v5/Data_029a77f196804217_6_LATERNAresorantWithTrafic.json', '../data/raw/v5/Data_03575768cc23b2df_5_PiXmilenkosRoomTrafficTable1.json', '../data/raw/v5/Data_029a77f196804217_5_LATERNAWithTruffic.json', '../data/raw/v5/Data_4aaf95a621ccf092_5_NadasLivingRoomWithTraffic.json', '../data/raw/v5/Data_03575768cc23b2df_6_PiXmilenkosRoomTrafficTable1.json', '../data/raw/v5/Data_4aaf95a621ccf092_5_NadasBathroomWithTrafficOrient1.json', '../data/raw/v5/Data_029a77f196804217_6_milenkosRoomTrafficTable.json', '../data/raw/v5/Data_03575768cc23b2df_5_PiXmilenkosRoomTrafficTable7.json', '../data/raw/v5/Data_4aaf95a621ccf092_5_NadasLivingRoomWithTrafficOrient2.json', '../data/raw/v5/Data_029a77f196804217_6_milenkosRoomWithTrafficDifferentOrentationWithPousesInRuns.json', '../data/raw/v5/Data_e08d976ac75c011e_5_spelaMilenkosRoomTrafficTable3.json', '../data/raw/v5/Data_4aaf95a621ccf092_5_NadasKitchenWithTraffic.json', '../data/raw/v5/Data_029a77f196804217_6_LATERNAWithTraffic2.json', '../data/raw/v5/Data_e08d976ac75c011e_5_spelaMilenkosKitchenTrafficTable1.json', '../data/raw/v5/Data_e08d976ac75c011e_6_spelaMilenkosKitchenTrafficTable2.json', '../data/raw/v5/Data_4aaf95a621ccf092_5_NadasKitchenWithTrafficOrient2.json', '../data/raw/v5/Data_03575768cc23b2df_5_PiXmilenkosRoomTrafficTable6.json', '../data/raw/v5/Data_029a77f196804217_5_milenkosRoomWithTrafficDifferentOrentationWithPousesInRuns.json', '../data/raw/v5/Data_03575768cc23b2df_5_PiXmilenkosRoomTrafficTable4.json', '../data/raw/v5/Data_03575768cc23b2df_5_PiXmilenkosRoomTrafficTable2.json', '../data/raw/v5/Data_e08d976ac75c011e_5_spelaMilenkosKitchenTrafficTable2.json', '../data/raw/v5/Data_03575768cc23b2df_6_PiXmilenkosRoomTrafficTable4.json', '../data/raw/v5/Data_029a77f196804217_6_milenkosRoomTrafficTable2.json', '../data/raw/v5/Data_e08d976ac75c011e_5_spelaMilenkosRoomTrafficTable2.json', '../data/raw/v5/Data_e08d976ac75c011e_6_spelaMilenkosRoomTrafficTable1.json', '../data/raw/v5/Data_4aaf95a621ccf092_6_NadasLivingRoomWithTraffic.json', '../data/raw/v5/Data_029a77f196804217_6_milenkosRoomEithTrafficDifferentOrentationWithPousesInRuns3.json', '../data/raw/v5/Data_4aaf95a621ccf092_6_NadasBathroomWithTrafficOrient1.json', '../data/raw/v5/Data_029a77f196804217_5_milenkosRoomWithTrafficDifferentOrentationWithPousesInRuns2.json', '../data/raw/v5/Data_4aaf95a621ccf092_5_MihasLivingRoom.json', '../data/raw/v5/Data_e08d976ac75c011e_6_spelaMilenkosRoomTrafficTable2.json', '../data/raw/v5/Data_029a77f196804217_5_LATERNAresorantWithTrafic.json', '../data/raw/v5/Data_e08d976ac75c011e_6_spelaMilenkosKitchenTrafficTable4.json', '../data/raw/v5/Data_029a77f196804217_6_milenkosRoomTrafficTable3.json', '../data/raw/v5/Data_03575768cc23b2df_6_PiXmilenkosRoomTrafficTable3.json', '../data/raw/v5/Data_4aaf95a621ccf092_5_NadasKitchenWithTrafficOrient3.json', '../data/raw/v5/Data_03575768cc23b2df_5_PiXmilenkosRoomTrafficTable3.json', '../data/raw/v5/Data_029a77f196804217_6_milenkosRoomTrafficBed3.json', '../data/raw/v5/Data_029a77f196804217_5_milenkosRoomTrafficTable2.json', '../data/raw/v5/Data_029a77f196804217_6_milenkosRoomTrafficBed2.json', '../data/raw/v5/Data_4aaf95a621ccf092_6_NadasKitchenWithTrafficOrient2.json', '../data/raw/v5/Data_029a77f196804217_6_LATERNAWithTruffic.json', '../data/raw/v5/Data_4aaf95a621ccf092_6_NadasKitchenWithTraffic.json', '../data/raw/v5/Data_029a77f196804217_5_milenkosRoomTrafficBed1.json', '../data/raw/v5/Data_029a77f196804217_5_milenkosRoomTrafficBed3.json', '../data/raw/v5/Data_4aaf95a621ccf092_5_NadasLivingRoomWithTrafficOrient3.json', '../data/raw/v5/Data_e08d976ac75c011e_6_spelaMilenkosKitchenTrafficTable3.json', '../data/raw/v5/Data_e08d976ac75c011e_6_spelaMilenkosKitchenTrafficTable1.json', '../data/raw/v5/Data_4aaf95a621ccf092_6_MihasLivingRoom.json', '../data/raw/v5/Data_4aaf95a621ccf092_6_NadasLivingRoomWithTrafficOrient3.json', '../data/raw/v5/Data_4aaf95a621ccf092_6_NadasKitchenWithTrafficOrient3.json', '../data/raw/v5/Data_03575768cc23b2df_6_PiXmilenkosRoomTrafficTable5.json', '../data/raw/v5/Data_029a77f196804217_5_milenkosRoomTrafficTable3.json', '../data/raw/v5/Data_03575768cc23b2df_5_PiXmilenkosRoomTrafficTable5.json']\n"
     ]
    }
   ],
   "source": [
    "files = glob.glob(f\"{data_path}/Data*.json\")\n",
    "#print(files)\n"
   ]
  },
  {
   "cell_type": "code",
   "execution_count": 6,
   "metadata": {},
   "outputs": [
    {
     "name": "stdout",
     "output_type": "stream",
     "text": [
      "0/68\n",
      "1/68\n",
      "2/68\n",
      "3/68\n",
      "4/68\n",
      "5/68\n",
      "6/68\n",
      "7/68\n",
      "8/68\n",
      "9/68\n",
      "10/68\n",
      "11/68\n",
      "12/68\n",
      "13/68\n",
      "14/68\n",
      "15/68\n",
      "16/68\n",
      "17/68\n",
      "18/68\n",
      "19/68\n",
      "20/68\n",
      "21/68\n",
      "22/68\n",
      "23/68\n",
      "24/68\n",
      "25/68\n",
      "26/68\n",
      "27/68\n",
      "28/68\n",
      "29/68\n",
      "30/68\n",
      "31/68\n",
      "32/68\n",
      "33/68\n",
      "34/68\n",
      "35/68\n",
      "36/68\n",
      "37/68\n",
      "38/68\n",
      "39/68\n",
      "40/68\n",
      "41/68\n",
      "42/68\n",
      "43/68\n",
      "44/68\n",
      "45/68\n",
      "46/68\n",
      "47/68\n",
      "48/68\n",
      "49/68\n",
      "50/68\n",
      "51/68\n",
      "52/68\n",
      "53/68\n",
      "54/68\n",
      "55/68\n",
      "56/68\n",
      "57/68\n",
      "58/68\n",
      "59/68\n",
      "60/68\n",
      "61/68\n",
      "62/68\n",
      "63/68\n",
      "64/68\n",
      "65/68\n",
      "66/68\n",
      "67/68\n"
     ]
    }
   ],
   "source": [
    "from lib import remove_from_string, location_mapping\n",
    "for i, file_name in enumerate(files):\n",
    "    data = json.load(open(file_name, \"r\"))[0]\n",
    "\n",
    "    test_name = file_name.split(\"_\")[3][:-5]\n",
    "    location = location_mapping.get(remove_from_string(test_name))\n",
    "   \n",
    "    df = pd.DataFrame({k: data[k] for k in [\"X_UnCal\", \"Y_UnCal\", \"Z_UnCal\", \"X_Bias\", \"Y_Bias\", \"Z_Bias\", \"time_UnCal\", \"Accuracy\"]})\n",
    "\n",
    "    device_id = data['DEVICE_ID']\n",
    "    stage = data[\"stage\"]\n",
    "    test_case_id = file_name.split('_')[-1].split('.')[0]\n",
    "    \n",
    "    df.to_csv(f\"{interim_data_path}/{device_id or 'no_id'}-stage_{stage}-{test_case_id}-{location}.csv\")\n",
    "    print(f\"{i+1}/{len(files)}\")\n"
   ]
  },
  {
   "cell_type": "code",
   "execution_count": 7,
   "metadata": {},
   "outputs": [
    {
     "name": "stdout",
     "output_type": "stream",
     "text": [
      "{'title': 'V5 data', 'description': 'V5 data for 2 stages (all_on, 6, all_off, 5) in multiple places (Bathroom, Kitchen, LivingRoom, DormRoom, Park, Restaurant)', 'author': 'Milenko, Mihael', 'places': ['Bathroom', 'DormRoom1', 'DormRoom2', 'DormRoom3', 'DormRoom4', 'DormRoom5', 'DormRoom6', 'Kitchen1', 'Kitchen2', 'Kitchen3', 'LivingRoom1', 'LivingRoom2', 'Park', 'Restaurant'], 'place_mapping': {'NadasKitchen': 'Kitchen1', 'MihasLivingRoom': 'LivingRoom1', 'milenkosRoomBed': 'DormRoom1', 'PiXmilenkosRoomTable': 'DormRoom2', 'spelaMilenkosRoomTable': 'DormRoom3', 'milenkoPark': 'Park', 'LATERNA': 'Restaurant', 'NadasLivingRoom': 'LivingRoom2', 'milenkosRoomNearDevices': 'DormRoom4', 'milenkosRoom': 'DormRoom5', 'milenkosRoomTable': 'DormRoom6', 'NadasBathroom': 'Bathroom', 'spelaMilenkosKitchenTable': 'Kitchen2', 'milenkosKitchenNotNearDevices': 'Kitchen3'}, 'stages': 2, 'traffic': True, 'format': 'raw', 'phone_mapping': {'4aaf95a621ccf092': 'Redmi Note 8 PRO', '029a77f196804217': 'Samsung Galaxy A51', '03575768cc23b2df': 'Google Pixel 6', 'e08d976ac75c011e': 'Samsung Galaxy S6'}, 'created': '2023-01-11T14:31:20.625Z'}\n"
     ]
    }
   ],
   "source": [
    "# create metadata file\n",
    "metadata = json.load(open(f\"{data_path}/metadata.json\",\"r\"))\n",
    "print(metadata)\n",
    "metadata['format'] = \"interim\"\n",
    "\n",
    "# Serializing json\n",
    "json_object = json.dumps(metadata, indent=4)\n",
    " \n",
    "# Writing to sample.json\n",
    "with open(f\"{interim_data_path}/metadata.json\", \"w\") as outfile:\n",
    "    outfile.write(json_object)"
   ]
  }
 ],
 "metadata": {
  "kernelspec": {
   "display_name": ".venv",
   "language": "python",
   "name": "python3"
  },
  "language_info": {
   "codemirror_mode": {
    "name": "ipython",
    "version": 3
   },
   "file_extension": ".py",
   "mimetype": "text/x-python",
   "name": "python",
   "nbconvert_exporter": "python",
   "pygments_lexer": "ipython3",
   "version": "3.10.6 (main, Nov 14 2022, 16:10:14) [GCC 11.3.0]"
  },
  "orig_nbformat": 4,
  "vscode": {
   "interpreter": {
    "hash": "e965f474544900324d9a300f886957f21180fd8355baf1bc8a33e31084e23186"
   }
  }
 },
 "nbformat": 4,
 "nbformat_minor": 2
}

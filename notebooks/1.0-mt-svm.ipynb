{
 "cells": [
  {
   "cell_type": "code",
   "execution_count": 1,
   "metadata": {},
   "outputs": [
    {
     "name": "stdout",
     "output_type": "stream",
     "text": [
      "99 [5, 2, 2, 6, 5, 6, 1, 2, 2, 3, 6, 1, 5, 4, 2, 5, 6, 3, 5, 4, 3, 5, 2, 4, 3, 4, 6, 3, 1, 1, 5, 4, 2, 2, 4, 3, 5, 3, 4, 3, 5, 6, 3, 2, 3, 4, 1, 4, 1, 4, 2, 1, 2, 5, 4, 5, 5, 2, 3, 2, 3, 2, 4, 5, 5, 1, 1, 3, 2, 1, 1, 3, 5, 4, 1, 3, 2, 5, 1, 5, 6, 3, 6, 2, 3, 1, 4, 6, 1, 5, 3, 1, 4, 6, 2, 6, 5, 2, 4]\n",
      "     X_UnCal    Y_UnCal  Z_UnCal     X_Bias    Y_Bias    Z_Bias  \\\n",
      "0     2.0740  24.558600 -64.4282 -29.610296  45.48195 -38.70174   \n",
      "1    -0.0000  24.875800 -65.2212 -29.610298  45.48195 -38.70174   \n",
      "2     2.3546  25.144200 -64.1842 -29.610298  45.48195 -38.70174   \n",
      "3     1.9398  26.168999 -65.5384 -29.610298  45.48195 -38.70174   \n",
      "4     1.4152  37.356400 -75.3594 -29.610298  45.48195 -38.70174   \n",
      "..       ...        ...      ...        ...       ...       ...   \n",
      "152   0.3538  55.680798 -54.8024 -29.610294  45.48195 -38.70174   \n",
      "153  -1.9886  55.143997 -55.4734 -29.610294  45.48195 -38.70174   \n",
      "154  -2.5376  55.058598 -56.8276 -29.610294  45.48195 -38.70174   \n",
      "155  -1.6348  55.448997 -56.2054 -29.610294  45.48195 -38.70174   \n",
      "156  -1.3054  55.412400 -55.8150 -29.610294  45.48195 -38.70174   \n",
      "\n",
      "     time_uncalibrated  \n",
      "0         1.669605e+12  \n",
      "1         1.669605e+12  \n",
      "2         1.669605e+12  \n",
      "3         1.669605e+12  \n",
      "4         1.669605e+12  \n",
      "..                 ...  \n",
      "152       1.669605e+12  \n",
      "153       1.669605e+12  \n",
      "154       1.669605e+12  \n",
      "155       1.669605e+12  \n",
      "156       1.669605e+12  \n",
      "\n",
      "[157 rows x 7 columns]\n",
      "99\n"
     ]
    }
   ],
   "source": [
    "import glob\n",
    "import csv\n",
    "import pandas as pd\n",
    "import re\n",
    "\n",
    "csv_path = \"\"\n",
    "data_path = \"../data/interim\"\n",
    "files = glob.glob(f\"{data_path}/*uncalibrated.csv\")\n",
    "data_uncalibrated = [pd.read_csv(file, delimiter=',', index_col=0) for file in files]\n",
    "classes = [int(re.search('stage_.+?', filename).group(0).split('_')[-1]) for filename in files]\n",
    "print(len(classes), classes)\n",
    "print(data_uncalibrated[0])\n",
    "print(len(data_uncalibrated))"
   ]
  },
  {
   "cell_type": "code",
   "execution_count": 2,
   "metadata": {},
   "outputs": [],
   "source": [
    "from scipy.fft import fft, fftfreq, rfft, rfftfreq\n",
    "import numpy as np\n",
    "def fourier(dataframe, start=5, end=200):\n",
    "    yf_xu = rfft(dataframe['X_UnCal'].to_numpy())\n",
    "    yf_yu = rfft(dataframe['Y_UnCal'].to_numpy())\n",
    "    yf_zu = rfft(dataframe['Z_UnCal'].to_numpy())\n",
    "    x = dataframe['time_uncalibrated'].to_numpy()\n",
    "    x = x - x[0]\n",
    "    xf = rfftfreq(len(x), (x[1] - x[0]) / 1000)\n",
    "    return np.concatenate((yf_xu[start:end], yf_yu[start:end], yf_zu[start:end]))\n",
    "\n"
   ]
  },
  {
   "cell_type": "code",
   "execution_count": 3,
   "metadata": {},
   "outputs": [
    {
     "name": "stdout",
     "output_type": "stream",
     "text": [
      "77\n"
     ]
    }
   ],
   "source": [
    "X = [fourier(case, start=5, end=30) for case in data_uncalibrated]\n",
    "# filter samples that are too small\n",
    "index = [i  for i in range(len(X)) if len(X[i]) == 75]\n",
    "X = [X[i] for i in index]\n",
    "y = [classes[i] for i in index]\n",
    "\n",
    "# to real values\n",
    "X = np.real(X)\n",
    "print(len(X))"
   ]
  },
  {
   "cell_type": "code",
   "execution_count": 5,
   "metadata": {},
   "outputs": [
    {
     "name": "stdout",
     "output_type": "stream",
     "text": [
      "0.038461538461538464\n",
      "[1 1 1 2 1 2 2 1 2 1 1 2 3 1 1 1 1 2 1 1 1 3 1 1 1 1]\n",
      "[5, 3, 4, 5, 3, 3, 2, 3, 5, 2, 4, 6, 2, 5, 5, 6, 5, 6, 2, 6, 5, 1, 4, 4, 6, 2]\n"
     ]
    }
   ],
   "source": [
    "from sklearn.model_selection import train_test_split\n",
    "from sklearn import svm\n",
    "X_train, X_test, y_train, y_test = train_test_split(X, y, test_size=0.33, random_state=42)\n",
    "clf = svm.SVC(decision_function_shape='ovo')\n",
    "clf.fit(X_train, y_train)\n",
    "y_pred = clf.predict(X_test)\n",
    "print(sum([1 for i in range(len(y_pred)) if y_pred[i] == y_test[i]])/len(y_pred))\n",
    "print(y_pred)\n",
    "print(y_test)"
   ]
  }
 ],
 "metadata": {
  "kernelspec": {
   "display_name": "Python 3.10.6 64-bit",
   "language": "python",
   "name": "python3"
  },
  "language_info": {
   "codemirror_mode": {
    "name": "ipython",
    "version": 3
   },
   "file_extension": ".py",
   "mimetype": "text/x-python",
   "name": "python",
   "nbconvert_exporter": "python",
   "pygments_lexer": "ipython3",
   "version": "3.10.6"
  },
  "orig_nbformat": 4,
  "vscode": {
   "interpreter": {
    "hash": "e7370f93d1d0cde622a1f8e1c04877d8463912d04d973331ad4851f04de6915a"
   }
  }
 },
 "nbformat": 4,
 "nbformat_minor": 2
}

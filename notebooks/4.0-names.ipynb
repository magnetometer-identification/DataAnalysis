{
 "cells": [
  {
   "cell_type": "code",
   "execution_count": 8,
   "metadata": {},
   "outputs": [],
   "source": [
    "import glob"
   ]
  },
  {
   "cell_type": "code",
   "execution_count": 9,
   "metadata": {},
   "outputs": [
    {
     "name": "stdout",
     "output_type": "stream",
     "text": [
      "80\n",
      "milenkoParkWithTraffic\n",
      "milenkoParkWithTraffic1 \n",
      "milenkosRoomNearDevicesWithTraffic\n",
      "milenkosKitchenNotNearDevicesWithTraffic1\n",
      "milenkosKitchenNotNearDevicesWithTraffic\n",
      "milenkoParkWithTraffic\n",
      "milenkosRoomNearDevicesWithTraffic\n",
      "milenkosRoomNearDevicesWithTraffic1\n",
      "milenkoParkWithTraffic1 \n",
      "milenkosKitchenNotNearDevicesWithTraffic\n",
      "milenkosRoomNearDevicesWithTraffic1\n",
      "milenkosKitchenNotNearDevicesWithTraffic1\n",
      "PiXmilenkosRoomTrafficTable6\n",
      "spelaMilenkosRoomTrafficTable1\n",
      "LATERNAWithTraffic2\n",
      "milenkosRoomTrafficTable\n",
      "spelaMilenkosRoomTrafficTable3\n",
      "spelaMilenkosKitchenTrafficTable4\n",
      "milenkosRoomEithTrafficDifferentOrentationWithPousesInRuns3\n",
      "PiXmilenkosRoomTrafficTable2\n",
      "milenkosRoomTrafficBed2\n",
      "PiXmilenkosRoomTrafficTable7\n",
      "milenkosRoomWithTrafficDifferentOrentationWithPousesInRuns2\n",
      "NadasLivingRoomWithTrafficOrient2\n",
      "milenkosRoomTrafficBed1\n",
      "spelaMilenkosKitchenTrafficTable3\n",
      "LATERNAresorantWithTrafic\n",
      "PiXmilenkosRoomTrafficTable1\n",
      "LATERNAWithTruffic\n",
      "NadasLivingRoomWithTraffic\n",
      "PiXmilenkosRoomTrafficTable1\n",
      "NadasBathroomWithTrafficOrient1\n",
      "milenkosRoomTrafficTable\n",
      "PiXmilenkosRoomTrafficTable7\n",
      "NadasLivingRoomWithTrafficOrient2\n",
      "milenkosRoomWithTrafficDifferentOrentationWithPousesInRuns\n",
      "spelaMilenkosRoomTrafficTable3\n",
      "NadasKitchenWithTraffic\n",
      "LATERNAWithTraffic2\n",
      "spelaMilenkosKitchenTrafficTable1\n",
      "spelaMilenkosKitchenTrafficTable2\n",
      "NadasKitchenWithTrafficOrient2\n",
      "PiXmilenkosRoomTrafficTable6\n",
      "milenkosRoomWithTrafficDifferentOrentationWithPousesInRuns\n",
      "PiXmilenkosRoomTrafficTable4\n",
      "PiXmilenkosRoomTrafficTable2\n",
      "spelaMilenkosKitchenTrafficTable2\n",
      "PiXmilenkosRoomTrafficTable4\n",
      "milenkosRoomTrafficTable2\n",
      "spelaMilenkosRoomTrafficTable2\n",
      "spelaMilenkosRoomTrafficTable1\n",
      "NadasLivingRoomWithTraffic\n",
      "milenkosRoomEithTrafficDifferentOrentationWithPousesInRuns3\n",
      "NadasBathroomWithTrafficOrient1\n",
      "milenkosRoomWithTrafficDifferentOrentationWithPousesInRuns2\n",
      "MihasLivingRoom\n",
      "spelaMilenkosRoomTrafficTable2\n",
      "LATERNAresorantWithTrafic\n",
      "spelaMilenkosKitchenTrafficTable4\n",
      "milenkosRoomTrafficTable3\n",
      "PiXmilenkosRoomTrafficTable3\n",
      "NadasKitchenWithTrafficOrient3\n",
      "PiXmilenkosRoomTrafficTable3\n",
      "milenkosRoomTrafficBed3\n",
      "milenkosRoomTrafficTable2\n",
      "milenkosRoomTrafficBed2\n",
      "NadasKitchenWithTrafficOrient2\n",
      "LATERNAWithTruffic\n",
      "NadasKitchenWithTraffic\n",
      "milenkosRoomTrafficBed1\n",
      "milenkosRoomTrafficBed3\n",
      "NadasLivingRoomWithTrafficOrient3\n",
      "spelaMilenkosKitchenTrafficTable3\n",
      "spelaMilenkosKitchenTrafficTable1\n",
      "MihasLivingRoom\n",
      "NadasLivingRoomWithTrafficOrient3\n",
      "NadasKitchenWithTrafficOrient3\n",
      "PiXmilenkosRoomTrafficTable5\n",
      "milenkosRoomTrafficTable3\n",
      "PiXmilenkosRoomTrafficTable5\n"
     ]
    }
   ],
   "source": [
    "import glob\n",
    "data_path = \"../data/raw/\"\n",
    "versions = [\"v4\", \"v5\"]\n",
    "l = [glob.glob(f\"{data_path}{version}/Data*\") for version in versions]\n",
    "file_names = [item for sublist in l for item in sublist]\n",
    "test_names = [filename.split(\"_\")[3][:-5] for filename in file_names]\n",
    "print(len(test_names))\n",
    "for name in test_names:\n",
    "    print(name)\n",
    "#print(test_names)\n"
   ]
  },
  {
   "cell_type": "code",
   "execution_count": 10,
   "metadata": {},
   "outputs": [
    {
     "name": "stdout",
     "output_type": "stream",
     "text": [
      "LATERNA LATERNAWithTraffic2\n",
      "LATERNA LATERNAWithTraffic2\n",
      "LATERNA LATERNAWithTruffic\n",
      "LATERNA LATERNAWithTruffic\n",
      "LATERNA LATERNAresorantWithTrafic\n",
      "LATERNA LATERNAresorantWithTrafic\n",
      "MihasLivingRoom MihasLivingRoom\n",
      "MihasLivingRoom MihasLivingRoom\n",
      "NadasBathroom NadasBathroomWithTrafficOrient1\n",
      "NadasBathroom NadasBathroomWithTrafficOrient1\n",
      "NadasKitchen NadasKitchenWithTraffic\n",
      "NadasKitchen NadasKitchenWithTraffic\n",
      "NadasKitchen NadasKitchenWithTrafficOrient2\n",
      "NadasKitchen NadasKitchenWithTrafficOrient2\n",
      "NadasKitchen NadasKitchenWithTrafficOrient3\n",
      "NadasKitchen NadasKitchenWithTrafficOrient3\n",
      "NadasLivingRoom NadasLivingRoomWithTraffic\n",
      "NadasLivingRoom NadasLivingRoomWithTraffic\n",
      "NadasLivingRoom NadasLivingRoomWithTrafficOrient2\n",
      "NadasLivingRoom NadasLivingRoomWithTrafficOrient2\n",
      "NadasLivingRoom NadasLivingRoomWithTrafficOrient3\n",
      "NadasLivingRoom NadasLivingRoomWithTrafficOrient3\n",
      "PiXmilenkosRoomTable PiXmilenkosRoomTrafficTable1\n",
      "PiXmilenkosRoomTable PiXmilenkosRoomTrafficTable1\n",
      "PiXmilenkosRoomTable PiXmilenkosRoomTrafficTable2\n",
      "PiXmilenkosRoomTable PiXmilenkosRoomTrafficTable2\n",
      "PiXmilenkosRoomTable PiXmilenkosRoomTrafficTable3\n",
      "PiXmilenkosRoomTable PiXmilenkosRoomTrafficTable3\n",
      "PiXmilenkosRoomTable PiXmilenkosRoomTrafficTable4\n",
      "PiXmilenkosRoomTable PiXmilenkosRoomTrafficTable4\n",
      "PiXmilenkosRoomTable PiXmilenkosRoomTrafficTable5\n",
      "PiXmilenkosRoomTable PiXmilenkosRoomTrafficTable5\n",
      "PiXmilenkosRoomTable PiXmilenkosRoomTrafficTable6\n",
      "PiXmilenkosRoomTable PiXmilenkosRoomTrafficTable6\n",
      "PiXmilenkosRoomTable PiXmilenkosRoomTrafficTable7\n",
      "PiXmilenkosRoomTable PiXmilenkosRoomTrafficTable7\n",
      "milenkoPark milenkoParkWithTraffic\n",
      "milenkoPark milenkoParkWithTraffic\n",
      "milenkoPark milenkoParkWithTraffic1 \n",
      "milenkoPark milenkoParkWithTraffic1 \n",
      "milenkosKitchenNotNearDevices milenkosKitchenNotNearDevicesWithTraffic\n",
      "milenkosKitchenNotNearDevices milenkosKitchenNotNearDevicesWithTraffic\n",
      "milenkosKitchenNotNearDevices milenkosKitchenNotNearDevicesWithTraffic1\n",
      "milenkosKitchenNotNearDevices milenkosKitchenNotNearDevicesWithTraffic1\n",
      "milenkosRoom milenkosRoomEithTrafficDifferentOrentationWithPousesInRuns3\n",
      "milenkosRoom milenkosRoomEithTrafficDifferentOrentationWithPousesInRuns3\n",
      "milenkosRoomNearDevices milenkosRoomNearDevicesWithTraffic\n",
      "milenkosRoomNearDevices milenkosRoomNearDevicesWithTraffic\n",
      "milenkosRoomNearDevices milenkosRoomNearDevicesWithTraffic1\n",
      "milenkosRoomNearDevices milenkosRoomNearDevicesWithTraffic1\n",
      "milenkosRoomBed milenkosRoomTrafficBed1\n",
      "milenkosRoomBed milenkosRoomTrafficBed1\n",
      "milenkosRoomBed milenkosRoomTrafficBed2\n",
      "milenkosRoomBed milenkosRoomTrafficBed2\n",
      "milenkosRoomBed milenkosRoomTrafficBed3\n",
      "milenkosRoomBed milenkosRoomTrafficBed3\n",
      "milenkosRoomTable milenkosRoomTrafficTable\n",
      "milenkosRoomTable milenkosRoomTrafficTable\n",
      "milenkosRoomTable milenkosRoomTrafficTable2\n",
      "milenkosRoomTable milenkosRoomTrafficTable2\n",
      "milenkosRoomTable milenkosRoomTrafficTable3\n",
      "milenkosRoomTable milenkosRoomTrafficTable3\n",
      "milenkosRoom milenkosRoomWithTrafficDifferentOrentationWithPousesInRuns\n",
      "milenkosRoom milenkosRoomWithTrafficDifferentOrentationWithPousesInRuns\n",
      "milenkosRoom milenkosRoomWithTrafficDifferentOrentationWithPousesInRuns2\n",
      "milenkosRoom milenkosRoomWithTrafficDifferentOrentationWithPousesInRuns2\n",
      "spelaMilenkosKitchenTable spelaMilenkosKitchenTrafficTable1\n",
      "spelaMilenkosKitchenTable spelaMilenkosKitchenTrafficTable1\n",
      "spelaMilenkosKitchenTable spelaMilenkosKitchenTrafficTable2\n",
      "spelaMilenkosKitchenTable spelaMilenkosKitchenTrafficTable2\n",
      "spelaMilenkosKitchenTable spelaMilenkosKitchenTrafficTable3\n",
      "spelaMilenkosKitchenTable spelaMilenkosKitchenTrafficTable3\n",
      "spelaMilenkosKitchenTable spelaMilenkosKitchenTrafficTable4\n",
      "spelaMilenkosKitchenTable spelaMilenkosKitchenTrafficTable4\n",
      "spelaMilenkosRoomTable spelaMilenkosRoomTrafficTable1\n",
      "spelaMilenkosRoomTable spelaMilenkosRoomTrafficTable1\n",
      "spelaMilenkosRoomTable spelaMilenkosRoomTrafficTable2\n",
      "spelaMilenkosRoomTable spelaMilenkosRoomTrafficTable2\n",
      "spelaMilenkosRoomTable spelaMilenkosRoomTrafficTable3\n",
      "spelaMilenkosRoomTable spelaMilenkosRoomTrafficTable3\n"
     ]
    }
   ],
   "source": [
    "\n",
    "def remove_from_string(test_string):\n",
    "    # remove comments\n",
    "    remove_list = [\"resorant\", \"Trafic\", \"Traffic\", \"With\", \"Truffic\", \"Eith\", \"DifferentOrentationPousesInRuns\", \"Orient\"]\n",
    "    for sub in remove_list:\n",
    "        test_string = test_string.replace(sub, '')\n",
    "    # remove numbers\n",
    "    test_string = \"\".join(list(filter(lambda x: x.isalpha(), test_string)))\n",
    "    return test_string\n",
    "cleaned = [remove_from_string(name) for name in test_names]\n",
    "for name, name_cleaned in sorted(zip(test_names, cleaned)):\n",
    "    print(name_cleaned, name)"
   ]
  },
  {
   "cell_type": "code",
   "execution_count": 11,
   "metadata": {},
   "outputs": [
    {
     "data": {
      "text/plain": [
       "'LATERNA'"
      ]
     },
     "execution_count": 11,
     "metadata": {},
     "output_type": "execute_result"
    }
   ],
   "source": [
    "remove_from_string(\"LATERNAresorantWithTrafic\")"
   ]
  },
  {
   "cell_type": "code",
   "execution_count": 12,
   "metadata": {},
   "outputs": [
    {
     "name": "stdout",
     "output_type": "stream",
     "text": [
      "LATERNA\n",
      "MihasLivingRoom\n",
      "NadasBathroom\n",
      "NadasKitchen\n",
      "NadasLivingRoom\n",
      "PiXmilenkosRoomTable\n",
      "milenkoPark\n",
      "milenkosKitchenNotNearDevices\n",
      "milenkosRoom\n",
      "milenkosRoomBed\n",
      "milenkosRoomNearDevices\n",
      "milenkosRoomTable\n",
      "spelaMilenkosKitchenTable\n",
      "spelaMilenkosRoomTable\n"
     ]
    }
   ],
   "source": [
    "for name in (sorted(list(set(cleaned)))):\n",
    "    print(name)"
   ]
  },
  {
   "cell_type": "code",
   "execution_count": 17,
   "metadata": {},
   "outputs": [],
   "source": [
    "place_mapping = {\n",
    "    \"NadasKitchen\": \"Kitchen1\",\n",
    "\"MihasLivingRoom\": \"LivingRoom1\",\n",
    "\"milenkosRoomBed\": \"DormRoom1\",\n",
    "\"PiXmilenkosRoomTable\": \"DormRoom2\",\n",
    "\"spelaMilenkosRoomTable\": \"DormRoom3\",\n",
    "\"milenkoPark\": \"Park\",\n",
    "\"LATERNA\": \"Restaurant\",\n",
    "\"NadasLivingRoom\": \"LivingRoom2\",\n",
    "\"milenkosRoomNearDevices\": \"DormRoom4\",\n",
    "\"milenkosRoom\": \"DormRoom5\",\n",
    "\"milenkosRoomTable\": \"DormRoom6\",\n",
    "\"NadasBathroom\": \"Bathroom\",\n",
    "\"spelaMilenkosKitchenTable\": \"Kitchen2\",\n",
    "\"milenkosKitchenNotNearDevices\": \"Kitchen3\"\n",
    "}"
   ]
  },
  {
   "cell_type": "code",
   "execution_count": 18,
   "metadata": {},
   "outputs": [
    {
     "name": "stdout",
     "output_type": "stream",
     "text": [
      "\"Bathroom\",\n",
      "\"DormRoom1\",\n",
      "\"DormRoom2\",\n",
      "\"DormRoom3\",\n",
      "\"DormRoom4\",\n",
      "\"DormRoom5\",\n",
      "\"DormRoom6\",\n",
      "\"Kitchen1\",\n",
      "\"Kitchen2\",\n",
      "\"Kitchen3\",\n",
      "\"LivingRoom1\",\n",
      "\"LivingRoom2\",\n",
      "\"Park\",\n",
      "\"Restaurant\",\n"
     ]
    }
   ],
   "source": [
    "for v in sorted(place_mapping.values()):\n",
    "    print(f'\"{v}\",')"
   ]
  }
 ],
 "metadata": {
  "kernelspec": {
   "display_name": ".venv",
   "language": "python",
   "name": "python3"
  },
  "language_info": {
   "codemirror_mode": {
    "name": "ipython",
    "version": 3
   },
   "file_extension": ".py",
   "mimetype": "text/x-python",
   "name": "python",
   "nbconvert_exporter": "python",
   "pygments_lexer": "ipython3",
   "version": "3.10.6 (main, Nov 14 2022, 16:10:14) [GCC 11.3.0]"
  },
  "orig_nbformat": 4,
  "vscode": {
   "interpreter": {
    "hash": "e965f474544900324d9a300f886957f21180fd8355baf1bc8a33e31084e23186"
   }
  }
 },
 "nbformat": 4,
 "nbformat_minor": 2
}

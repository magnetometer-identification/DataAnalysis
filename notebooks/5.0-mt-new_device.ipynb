{
 "cells": [
  {
   "attachments": {},
   "cell_type": "markdown",
   "metadata": {},
   "source": [
    "# Experimenting with new device\n",
    "\n",
    "- this playbook contains the code for the experimentation with new device"
   ]
  },
  {
   "cell_type": "code",
   "execution_count": 8,
   "metadata": {},
   "outputs": [],
   "source": [
    "import os\n",
    "import csv\n",
    "import pandas as pd\n",
    "\n",
    "version = \"v6\"\n",
    "dataset_path = f\"../data/processed/\"\n",
    "\n",
    "# files\n",
    "filename_s = f\"{version}-2_stages-full_statistical.csv\"\n",
    "filename_s_n = f\"{version}-2_stages-full_statistical_normalized.csv\"\n",
    "filename_s_s = f\"{version}-2_stages-full_statistical_standardized.csv\"\n",
    "filename_f = f\"{version}-2_stages-fourier_int_XYZ.csv\"\n",
    "filename_f_n = f\"{version}-2_stages-fourier_normalized_int_XYZ.csv\"\n",
    "filename_f_s = f\"{version}-2_stages-fourier_standardized_XYZ.csv\"\n",
    "\n",
    "\n",
    "# datasets\n",
    "df_statistical = pd.read_csv(f\"{dataset_path}/{filename_s}\")\n",
    "df_statistical_normalized = pd.read_csv(f\"{dataset_path}/{filename_s_n}\")\n",
    "df_statistical_standardized = pd.read_csv(f\"{dataset_path}/{filename_s_s}\")\n",
    "df_spectral = pd.read_csv(f\"{dataset_path}/{filename_f}\")\n",
    "df_spectral_normalized = pd.read_csv(f\"{dataset_path}/{filename_f_n}\")\n",
    "df_spectral_standardized = pd.read_csv(f\"{dataset_path}/{filename_f_s}\")"
   ]
  },
  {
   "cell_type": "code",
   "execution_count": 29,
   "metadata": {},
   "outputs": [
    {
     "data": {
      "text/plain": [
       "03575768cc23b2df    17381\n",
       "029a77f196804217    12828\n",
       "e08d976ac75c011e     5607\n",
       "4aaf95a621ccf092     1603\n",
       "Name: device_id, dtype: int64"
      ]
     },
     "execution_count": 29,
     "metadata": {},
     "output_type": "execute_result"
    }
   ],
   "source": [
    "from lib import device_mapping, reverse_device_mapping\n",
    "\n",
    "# ------------------------------------------------\n",
    "# choice of dataset\n",
    "\n",
    "# df = df_statistical # 56, 67\n",
    "# df = df_statistical_normalized  # 54 63\n",
    "# df = df_statistical_standardized    # 66, 72\n",
    "# df = df_spectral    # 74, 77\n",
    "# df = df_spectral_normalized #77 78\n",
    "df = df_spectral_standardized   #89, 80\n",
    "\n",
    "# ------------------------------------------------\n",
    "# choice of phone\n",
    "\n",
    "# GooglePixel6:        03575768cc23b2df\n",
    "# RedmiNote8PRO:       4aaf95a621ccf092\n",
    "# SamsungGalaxyA51:    029a77f196804217\n",
    "# SamsungGalaxyS6:     e08d976ac75c011e\n",
    "\n",
    "\n",
    "# df = df[df['device_id'].isin(reverse_device_mapping(['RedmiNote8PRO']))]\n",
    "# df = df[df['device_id'].isin(reverse_device_mapping(['SamsungGalaxyS6']))]\n",
    "# df = df[df['device_id'].isin(reverse_device_mapping(['GooglePixel6', 'RedmiNote8PRO']))]\n",
    "# df = df[df['device_id'].isin(reverse_device_mapping(['SamsungGalaxyA51', 'SamsungGalaxyS6']))]\n",
    "\n",
    "# ------------------------------------------------\n",
    "# choice of locations to include TOOD\n",
    "\n",
    "# number of cases per device\n",
    "df['device_id'].value_counts()\n"
   ]
  },
  {
   "cell_type": "code",
   "execution_count": 30,
   "metadata": {},
   "outputs": [
    {
     "data": {
      "text/plain": [
       "X_20            0.447189\n",
       "X_40            0.415539\n",
       "X_39            0.367417\n",
       "Z_20            0.355853\n",
       "Z_34            0.348083\n",
       "                  ...   \n",
       "X_6             0.019327\n",
       "X_7             0.009107\n",
       "intensity_6     0.003693\n",
       "intensity_8     0.003301\n",
       "intensity_10    0.002121\n",
       "Length: 199, dtype: float64"
      ]
     },
     "execution_count": 30,
     "metadata": {},
     "output_type": "execute_result"
    }
   ],
   "source": [
    "correlation = df.iloc[:, 6:].apply(lambda x: df['label'].corr(x, method=\"pearson\")).abs().sort_values(ascending=False)\n",
    "pd.set_option('display.max_rows', 100)\n",
    "correlation"
   ]
  },
  {
   "cell_type": "code",
   "execution_count": 31,
   "metadata": {},
   "outputs": [
    {
     "data": {
      "text/html": [
       "<div>\n",
       "<style scoped>\n",
       "    .dataframe tbody tr th:only-of-type {\n",
       "        vertical-align: middle;\n",
       "    }\n",
       "\n",
       "    .dataframe tbody tr th {\n",
       "        vertical-align: top;\n",
       "    }\n",
       "\n",
       "    .dataframe thead th {\n",
       "        text-align: right;\n",
       "    }\n",
       "</style>\n",
       "<table border=\"1\" class=\"dataframe\">\n",
       "  <thead>\n",
       "    <tr style=\"text-align: right;\">\n",
       "      <th></th>\n",
       "      <th>X_20</th>\n",
       "      <th>X_40</th>\n",
       "      <th>X_39</th>\n",
       "      <th>Z_20</th>\n",
       "      <th>Z_34</th>\n",
       "      <th>X_44</th>\n",
       "      <th>Z_1</th>\n",
       "      <th>X_38</th>\n",
       "      <th>Y_1</th>\n",
       "      <th>X_45</th>\n",
       "    </tr>\n",
       "  </thead>\n",
       "  <tbody>\n",
       "    <tr>\n",
       "      <th>0</th>\n",
       "      <td>0.172688</td>\n",
       "      <td>0.062938</td>\n",
       "      <td>0.093216</td>\n",
       "      <td>0.409285</td>\n",
       "      <td>0.154237</td>\n",
       "      <td>0.067292</td>\n",
       "      <td>5.638308</td>\n",
       "      <td>0.082517</td>\n",
       "      <td>7.367321</td>\n",
       "      <td>0.065330</td>\n",
       "    </tr>\n",
       "    <tr>\n",
       "      <th>1</th>\n",
       "      <td>0.180497</td>\n",
       "      <td>0.062083</td>\n",
       "      <td>0.097734</td>\n",
       "      <td>0.388350</td>\n",
       "      <td>0.138530</td>\n",
       "      <td>0.065498</td>\n",
       "      <td>4.990691</td>\n",
       "      <td>0.081565</td>\n",
       "      <td>6.597929</td>\n",
       "      <td>0.065555</td>\n",
       "    </tr>\n",
       "    <tr>\n",
       "      <th>2</th>\n",
       "      <td>0.197031</td>\n",
       "      <td>0.061746</td>\n",
       "      <td>0.096353</td>\n",
       "      <td>0.382012</td>\n",
       "      <td>0.110859</td>\n",
       "      <td>0.065165</td>\n",
       "      <td>4.533820</td>\n",
       "      <td>0.083070</td>\n",
       "      <td>5.798009</td>\n",
       "      <td>0.066694</td>\n",
       "    </tr>\n",
       "    <tr>\n",
       "      <th>3</th>\n",
       "      <td>0.200094</td>\n",
       "      <td>0.065229</td>\n",
       "      <td>0.093037</td>\n",
       "      <td>0.381718</td>\n",
       "      <td>0.144068</td>\n",
       "      <td>0.067074</td>\n",
       "      <td>3.968126</td>\n",
       "      <td>0.079724</td>\n",
       "      <td>4.953773</td>\n",
       "      <td>0.062077</td>\n",
       "    </tr>\n",
       "    <tr>\n",
       "      <th>4</th>\n",
       "      <td>0.183691</td>\n",
       "      <td>0.068019</td>\n",
       "      <td>0.089609</td>\n",
       "      <td>0.376682</td>\n",
       "      <td>0.197751</td>\n",
       "      <td>0.072832</td>\n",
       "      <td>3.375192</td>\n",
       "      <td>0.083251</td>\n",
       "      <td>4.064490</td>\n",
       "      <td>0.065634</td>\n",
       "    </tr>\n",
       "    <tr>\n",
       "      <th>...</th>\n",
       "      <td>...</td>\n",
       "      <td>...</td>\n",
       "      <td>...</td>\n",
       "      <td>...</td>\n",
       "      <td>...</td>\n",
       "      <td>...</td>\n",
       "      <td>...</td>\n",
       "      <td>...</td>\n",
       "      <td>...</td>\n",
       "      <td>...</td>\n",
       "    </tr>\n",
       "    <tr>\n",
       "      <th>37414</th>\n",
       "      <td>0.576269</td>\n",
       "      <td>0.197693</td>\n",
       "      <td>0.232558</td>\n",
       "      <td>0.501394</td>\n",
       "      <td>0.232905</td>\n",
       "      <td>0.112794</td>\n",
       "      <td>1.438913</td>\n",
       "      <td>0.249888</td>\n",
       "      <td>0.945452</td>\n",
       "      <td>0.093758</td>\n",
       "    </tr>\n",
       "    <tr>\n",
       "      <th>37415</th>\n",
       "      <td>0.567188</td>\n",
       "      <td>0.196501</td>\n",
       "      <td>0.223925</td>\n",
       "      <td>0.484644</td>\n",
       "      <td>0.226975</td>\n",
       "      <td>0.116862</td>\n",
       "      <td>1.433340</td>\n",
       "      <td>0.254721</td>\n",
       "      <td>0.945178</td>\n",
       "      <td>0.093368</td>\n",
       "    </tr>\n",
       "    <tr>\n",
       "      <th>37416</th>\n",
       "      <td>0.600198</td>\n",
       "      <td>0.196256</td>\n",
       "      <td>0.225943</td>\n",
       "      <td>0.473916</td>\n",
       "      <td>0.227170</td>\n",
       "      <td>0.115680</td>\n",
       "      <td>1.423364</td>\n",
       "      <td>0.252920</td>\n",
       "      <td>0.977083</td>\n",
       "      <td>0.093242</td>\n",
       "    </tr>\n",
       "    <tr>\n",
       "      <th>37417</th>\n",
       "      <td>0.568395</td>\n",
       "      <td>0.195006</td>\n",
       "      <td>0.231348</td>\n",
       "      <td>0.424400</td>\n",
       "      <td>0.236367</td>\n",
       "      <td>0.119658</td>\n",
       "      <td>1.423977</td>\n",
       "      <td>0.251226</td>\n",
       "      <td>0.979360</td>\n",
       "      <td>0.095797</td>\n",
       "    </tr>\n",
       "    <tr>\n",
       "      <th>37418</th>\n",
       "      <td>0.558542</td>\n",
       "      <td>0.194981</td>\n",
       "      <td>0.229580</td>\n",
       "      <td>0.420700</td>\n",
       "      <td>0.225033</td>\n",
       "      <td>0.120436</td>\n",
       "      <td>1.424265</td>\n",
       "      <td>0.252319</td>\n",
       "      <td>0.986809</td>\n",
       "      <td>0.096963</td>\n",
       "    </tr>\n",
       "  </tbody>\n",
       "</table>\n",
       "<p>37419 rows × 10 columns</p>\n",
       "</div>"
      ],
      "text/plain": [
       "           X_20      X_40      X_39      Z_20      Z_34      X_44       Z_1  \\\n",
       "0      0.172688  0.062938  0.093216  0.409285  0.154237  0.067292  5.638308   \n",
       "1      0.180497  0.062083  0.097734  0.388350  0.138530  0.065498  4.990691   \n",
       "2      0.197031  0.061746  0.096353  0.382012  0.110859  0.065165  4.533820   \n",
       "3      0.200094  0.065229  0.093037  0.381718  0.144068  0.067074  3.968126   \n",
       "4      0.183691  0.068019  0.089609  0.376682  0.197751  0.072832  3.375192   \n",
       "...         ...       ...       ...       ...       ...       ...       ...   \n",
       "37414  0.576269  0.197693  0.232558  0.501394  0.232905  0.112794  1.438913   \n",
       "37415  0.567188  0.196501  0.223925  0.484644  0.226975  0.116862  1.433340   \n",
       "37416  0.600198  0.196256  0.225943  0.473916  0.227170  0.115680  1.423364   \n",
       "37417  0.568395  0.195006  0.231348  0.424400  0.236367  0.119658  1.423977   \n",
       "37418  0.558542  0.194981  0.229580  0.420700  0.225033  0.120436  1.424265   \n",
       "\n",
       "           X_38       Y_1      X_45  \n",
       "0      0.082517  7.367321  0.065330  \n",
       "1      0.081565  6.597929  0.065555  \n",
       "2      0.083070  5.798009  0.066694  \n",
       "3      0.079724  4.953773  0.062077  \n",
       "4      0.083251  4.064490  0.065634  \n",
       "...         ...       ...       ...  \n",
       "37414  0.249888  0.945452  0.093758  \n",
       "37415  0.254721  0.945178  0.093368  \n",
       "37416  0.252920  0.977083  0.093242  \n",
       "37417  0.251226  0.979360  0.095797  \n",
       "37418  0.252319  0.986809  0.096963  \n",
       "\n",
       "[37419 rows x 10 columns]"
      ]
     },
     "execution_count": 31,
     "metadata": {},
     "output_type": "execute_result"
    }
   ],
   "source": [
    "# feature selection. First k or all greater then some correlation\n",
    "selection = correlation[:10].index\n",
    "# selection = correlation[correlation > 0.05].index\n",
    "df[selection]"
   ]
  },
  {
   "cell_type": "code",
   "execution_count": 32,
   "metadata": {},
   "outputs": [
    {
     "name": "stdout",
     "output_type": "stream",
     "text": [
      "SamsungGalaxyA51\n",
      "RedmiNote8PRO\n",
      "GooglePixel6\n",
      "SamsungGalaxyS6\n"
     ]
    }
   ],
   "source": [
    "from lib import device_mapping\n",
    "for device_id in df['device_id'].unique():\n",
    "    print(device_mapping[device_id])\n"
   ]
  },
  {
   "cell_type": "code",
   "execution_count": 33,
   "metadata": {},
   "outputs": [],
   "source": [
    "def map_classes(x):\n",
    "    if x == 5:\n",
    "        return 1\n",
    "    return 0\n",
    "def map_back_classes(x):\n",
    "    if x == 1:\n",
    "        return 5\n",
    "    return 6"
   ]
  },
  {
   "cell_type": "code",
   "execution_count": 34,
   "metadata": {},
   "outputs": [
    {
     "name": "stdout",
     "output_type": "stream",
     "text": [
      "['SamsungGalaxyA51', 0.6269098846273776, 0.5945442222975262, 0.7125038977237294, 0.5830884015374181]\n",
      "['RedmiNote8PRO', 0.5009357454772302, 0.0, 0.5009357454772302, 0.0]\n",
      "['GooglePixel6', 0.5915079684713193, 0.7134786117836965, 0.7950635751682872, 0.8301706875178794]\n",
      "['SamsungGalaxyS6', 0.478330658105939, 0.6218487394957983, 0.7503121098626716, 0.7701149425287357]\n"
     ]
    },
    {
     "data": {
      "text/html": [
       "<div>\n",
       "<style scoped>\n",
       "    .dataframe tbody tr th:only-of-type {\n",
       "        vertical-align: middle;\n",
       "    }\n",
       "\n",
       "    .dataframe tbody tr th {\n",
       "        vertical-align: top;\n",
       "    }\n",
       "\n",
       "    .dataframe thead th {\n",
       "        text-align: right;\n",
       "    }\n",
       "</style>\n",
       "<table border=\"1\" class=\"dataframe\">\n",
       "  <thead>\n",
       "    <tr style=\"text-align: right;\">\n",
       "      <th></th>\n",
       "      <th>Device</th>\n",
       "      <th>SVM_acc</th>\n",
       "      <th>SVM_f1</th>\n",
       "      <th>RF_acc</th>\n",
       "      <th>RF_f1</th>\n",
       "    </tr>\n",
       "  </thead>\n",
       "  <tbody>\n",
       "    <tr>\n",
       "      <th>0</th>\n",
       "      <td>SamsungGalaxyA51</td>\n",
       "      <td>0.626910</td>\n",
       "      <td>0.594544</td>\n",
       "      <td>0.712504</td>\n",
       "      <td>0.583088</td>\n",
       "    </tr>\n",
       "    <tr>\n",
       "      <th>1</th>\n",
       "      <td>RedmiNote8PRO</td>\n",
       "      <td>0.500936</td>\n",
       "      <td>0.000000</td>\n",
       "      <td>0.500936</td>\n",
       "      <td>0.000000</td>\n",
       "    </tr>\n",
       "    <tr>\n",
       "      <th>2</th>\n",
       "      <td>GooglePixel6</td>\n",
       "      <td>0.591508</td>\n",
       "      <td>0.713479</td>\n",
       "      <td>0.795064</td>\n",
       "      <td>0.830171</td>\n",
       "    </tr>\n",
       "    <tr>\n",
       "      <th>3</th>\n",
       "      <td>SamsungGalaxyS6</td>\n",
       "      <td>0.478331</td>\n",
       "      <td>0.621849</td>\n",
       "      <td>0.750312</td>\n",
       "      <td>0.770115</td>\n",
       "    </tr>\n",
       "  </tbody>\n",
       "</table>\n",
       "</div>"
      ],
      "text/plain": [
       "             Device   SVM_acc    SVM_f1    RF_acc     RF_f1\n",
       "0  SamsungGalaxyA51  0.626910  0.594544  0.712504  0.583088\n",
       "1     RedmiNote8PRO  0.500936  0.000000  0.500936  0.000000\n",
       "2      GooglePixel6  0.591508  0.713479  0.795064  0.830171\n",
       "3   SamsungGalaxyS6  0.478331  0.621849  0.750312  0.770115"
      ]
     },
     "execution_count": 34,
     "metadata": {},
     "output_type": "execute_result"
    }
   ],
   "source": [
    "from sklearn import svm\n",
    "from sklearn.ensemble import RandomForestClassifier\n",
    "from sklearn.metrics import f1_score\n",
    "from lib import device_mapping\n",
    "\n",
    "results = []\n",
    "for device_id in df['device_id'].unique():\n",
    "\n",
    "    # test is one device, train the rest\n",
    "    test = df[df['device_id'] == device_id]\n",
    "    train = df[df['device_id'] != device_id]\n",
    "\n",
    "    y_test = test['label'].to_numpy()\n",
    "    X_test = test[selection].to_numpy()\n",
    "    y_train = train['label'].to_numpy()\n",
    "    X_train = train[selection].to_numpy()\n",
    "\n",
    "    # SVM\n",
    "    clf = svm.SVC(decision_function_shape='ovo')\n",
    "    clf.fit(X_train, y_train)\n",
    "    y_pred = clf.predict(X_test)\n",
    "    acc_svm = sum([1 for i in range(len(y_pred)) if y_pred[i] == y_test[i]])/len(y_pred)\n",
    "    f1_svm = f1_score(list(map(map_classes, y_test)), list(map(map_classes, y_pred)))\n",
    "\n",
    "    # RF\n",
    "    clf = RandomForestClassifier(max_depth=3)\n",
    "    clf.fit(X_train, y_train)\n",
    "    y_pred = clf.predict(X_test)\n",
    "    acc_rf = sum([1 for i in range(len(y_pred)) if y_pred[i] == y_test[i]])/len(y_pred)\n",
    "    f1_rf = f1_score(list(map(map_classes, y_test)), list(map(map_classes, y_pred)))\n",
    "\n",
    "    device_name = device_mapping[test['device_id'].iloc[0]]\n",
    "    location = test['location'].iloc[0]\n",
    "    results_temp = [device_name, acc_svm, f1_svm, acc_rf, f1_rf]\n",
    "    results.append(results_temp)\n",
    "    print(results_temp)\n",
    "\n",
    "results_all = pd.DataFrame(results, columns=['Device', 'SVM_acc', 'SVM_f1', 'RF_acc', 'RF_f1'])\n",
    "results_all"
   ]
  },
  {
   "cell_type": "code",
   "execution_count": 41,
   "metadata": {},
   "outputs": [
    {
     "name": "stderr",
     "output_type": "stream",
     "text": [
      "/tmp/ipykernel_108514/823846894.py:1: FutureWarning: The default value of numeric_only in DataFrame.mean is deprecated. In a future version, it will default to False. In addition, specifying 'numeric_only=None' is deprecated. Select only valid columns or specify the value of numeric_only to silence this warning.\n",
      "  results_all[results_all['Device'] != 'RedmiNote8PRO'].mean()\n"
     ]
    },
    {
     "data": {
      "text/plain": [
       "SVM_acc    0.565583\n",
       "SVM_f1     0.643291\n",
       "RF_acc     0.752627\n",
       "RF_f1      0.727791\n",
       "dtype: float64"
      ]
     },
     "execution_count": 41,
     "metadata": {},
     "output_type": "execute_result"
    }
   ],
   "source": [
    "results_all[results_all['Device'] != 'RedmiNote8PRO'].mean()"
   ]
  },
  {
   "cell_type": "code",
   "execution_count": 37,
   "metadata": {},
   "outputs": [
    {
     "name": "stdout",
     "output_type": "stream",
     "text": [
      "\\begin{tabular}{lrrrr}\n",
      "\\toprule\n",
      "          Device &  SVM\\_acc &  SVM\\_f1 &  RF\\_acc &  RF\\_f1 \\\\\n",
      "\\midrule\n",
      "    GooglePixel6 &    0.592 &   0.713 &   0.795 &  0.830 \\\\\n",
      "   RedmiNote8PRO &    0.501 &   0.000 &   0.501 &  0.000 \\\\\n",
      "SamsungGalaxyA51 &    0.627 &   0.595 &   0.713 &  0.583 \\\\\n",
      " SamsungGalaxyS6 &    0.478 &   0.622 &   0.750 &  0.770 \\\\\n",
      "\\bottomrule\n",
      "\\end{tabular}\n",
      "\n"
     ]
    },
    {
     "name": "stderr",
     "output_type": "stream",
     "text": [
      "/tmp/ipykernel_108514/898273112.py:1: FutureWarning: In future versions `DataFrame.to_latex` is expected to utilise the base implementation of `Styler.to_latex` for formatting and rendering. The arguments signature may therefore change. It is recommended instead to use `DataFrame.style.to_latex` which also contains additional functionality.\n",
      "  print(results_all[['Device', 'SVM_acc', 'SVM_f1', 'RF_acc', 'RF_f1']].sort_values(['Device']).round(3).to_latex(index=False))\n"
     ]
    }
   ],
   "source": [
    "print(results_all[['Device', 'SVM_acc', 'SVM_f1', 'RF_acc', 'RF_f1']].sort_values(['Device']).round(3).to_latex(index=False))"
   ]
  },
  {
   "cell_type": "code",
   "execution_count": 35,
   "metadata": {},
   "outputs": [
    {
     "data": {
      "text/plain": [
       "SVM_acc    0.549421\n",
       "SVM_f1     0.482468\n",
       "RF_acc     0.689704\n",
       "RF_f1      0.545844\n",
       "dtype: float64"
      ]
     },
     "execution_count": 35,
     "metadata": {},
     "output_type": "execute_result"
    }
   ],
   "source": [
    "results_all[['SVM_acc', 'SVM_f1', 'RF_acc', 'RF_f1']].mean()"
   ]
  },
  {
   "cell_type": "code",
   "execution_count": 36,
   "metadata": {},
   "outputs": [
    {
     "data": {
      "image/png": "[encoded data removed]",
      "text/plain": [
       "<Figure size 640x480 with 1 Axes>"
      ]
     },
     "metadata": {},
     "output_type": "display_data"
    }
   ],
   "source": [
    "ax = results_all.plot.hist(bins=100, alpha=0.5)"
   ]
  }
 ],
 "metadata": {
  "kernelspec": {
   "display_name": "Python 3",
   "language": "python",
   "name": "python3"
  },
  "language_info": {
   "codemirror_mode": {
    "name": "ipython",
    "version": 3
   },
   "file_extension": ".py",
   "mimetype": "text/x-python",
   "name": "python",
   "nbconvert_exporter": "python",
   "pygments_lexer": "ipython3",
   "version": "3.10.6"
  },
  "orig_nbformat": 4,
  "vscode": {
   "interpreter": {
    "hash": "e7370f93d1d0cde622a1f8e1c04877d8463912d04d973331ad4851f04de6915a"
   }
  }
 },
 "nbformat": 4,
 "nbformat_minor": 2
}

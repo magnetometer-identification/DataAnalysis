{
 "cells": [
  {
   "cell_type": "markdown",
   "metadata": {},
   "source": [
    "# Filtering\n",
    "## Fourier transform\n",
    "The idea of this transform is to eliminate low frequencies, caused due to movement of device"
   ]
  },
  {
   "cell_type": "code",
   "execution_count": 8,
   "metadata": {},
   "outputs": [
    {
     "data": {
      "text/html": [
       "<div>\n",
       "<style scoped>\n",
       "    .dataframe tbody tr th:only-of-type {\n",
       "        vertical-align: middle;\n",
       "    }\n",
       "\n",
       "    .dataframe tbody tr th {\n",
       "        vertical-align: top;\n",
       "    }\n",
       "\n",
       "    .dataframe thead th {\n",
       "        text-align: right;\n",
       "    }\n",
       "</style>\n",
       "<table border=\"1\" class=\"dataframe\">\n",
       "  <thead>\n",
       "    <tr style=\"text-align: right;\">\n",
       "      <th></th>\n",
       "      <th>X_AWARE</th>\n",
       "      <th>Y_AWARE</th>\n",
       "      <th>Z_AWARE</th>\n",
       "      <th>time_AWARE</th>\n",
       "    </tr>\n",
       "  </thead>\n",
       "  <tbody>\n",
       "    <tr>\n",
       "      <th>0</th>\n",
       "      <td>-31.740000</td>\n",
       "      <td>-94.199997</td>\n",
       "      <td>-19.320000</td>\n",
       "      <td>1.669600e+12</td>\n",
       "    </tr>\n",
       "    <tr>\n",
       "      <th>1</th>\n",
       "      <td>14.639999</td>\n",
       "      <td>-12.120000</td>\n",
       "      <td>-25.559999</td>\n",
       "      <td>1.669600e+12</td>\n",
       "    </tr>\n",
       "    <tr>\n",
       "      <th>2</th>\n",
       "      <td>14.639999</td>\n",
       "      <td>-12.360000</td>\n",
       "      <td>-25.320000</td>\n",
       "      <td>1.669600e+12</td>\n",
       "    </tr>\n",
       "    <tr>\n",
       "      <th>3</th>\n",
       "      <td>14.639999</td>\n",
       "      <td>-12.900000</td>\n",
       "      <td>-25.320000</td>\n",
       "      <td>1.669600e+12</td>\n",
       "    </tr>\n",
       "    <tr>\n",
       "      <th>4</th>\n",
       "      <td>14.340000</td>\n",
       "      <td>-13.860000</td>\n",
       "      <td>-25.080000</td>\n",
       "      <td>1.669600e+12</td>\n",
       "    </tr>\n",
       "    <tr>\n",
       "      <th>...</th>\n",
       "      <td>...</td>\n",
       "      <td>...</td>\n",
       "      <td>...</td>\n",
       "      <td>...</td>\n",
       "    </tr>\n",
       "    <tr>\n",
       "      <th>173</th>\n",
       "      <td>14.340000</td>\n",
       "      <td>-8.099999</td>\n",
       "      <td>-26.519999</td>\n",
       "      <td>1.669600e+12</td>\n",
       "    </tr>\n",
       "    <tr>\n",
       "      <th>174</th>\n",
       "      <td>13.980000</td>\n",
       "      <td>-8.160000</td>\n",
       "      <td>-26.760000</td>\n",
       "      <td>1.669600e+12</td>\n",
       "    </tr>\n",
       "    <tr>\n",
       "      <th>175</th>\n",
       "      <td>14.340000</td>\n",
       "      <td>-8.280000</td>\n",
       "      <td>-26.160000</td>\n",
       "      <td>1.669600e+12</td>\n",
       "    </tr>\n",
       "    <tr>\n",
       "      <th>176</th>\n",
       "      <td>14.160000</td>\n",
       "      <td>-8.099999</td>\n",
       "      <td>-26.160000</td>\n",
       "      <td>1.669600e+12</td>\n",
       "    </tr>\n",
       "    <tr>\n",
       "      <th>177</th>\n",
       "      <td>13.740000</td>\n",
       "      <td>-8.580000</td>\n",
       "      <td>-25.920000</td>\n",
       "      <td>1.669600e+12</td>\n",
       "    </tr>\n",
       "  </tbody>\n",
       "</table>\n",
       "<p>178 rows × 4 columns</p>\n",
       "</div>"
      ],
      "text/plain": [
       "       X_AWARE    Y_AWARE    Z_AWARE    time_AWARE\n",
       "0   -31.740000 -94.199997 -19.320000  1.669600e+12\n",
       "1    14.639999 -12.120000 -25.559999  1.669600e+12\n",
       "2    14.639999 -12.360000 -25.320000  1.669600e+12\n",
       "3    14.639999 -12.900000 -25.320000  1.669600e+12\n",
       "4    14.340000 -13.860000 -25.080000  1.669600e+12\n",
       "..         ...        ...        ...           ...\n",
       "173  14.340000  -8.099999 -26.519999  1.669600e+12\n",
       "174  13.980000  -8.160000 -26.760000  1.669600e+12\n",
       "175  14.340000  -8.280000 -26.160000  1.669600e+12\n",
       "176  14.160000  -8.099999 -26.160000  1.669600e+12\n",
       "177  13.740000  -8.580000 -25.920000  1.669600e+12\n",
       "\n",
       "[178 rows x 4 columns]"
      ]
     },
     "execution_count": 8,
     "metadata": {},
     "output_type": "execute_result"
    }
   ],
   "source": [
    "import pandas as pd\n",
    "data_path = \"../data/interim\"\n",
    "file = \"808ab033-5ecb-464e-9468-f0dd985a7fd0-stage_1-3-aware.csv\"\n",
    "\n",
    "# file = \"Data_808ab033-5ecb-464e-9468-f0dd985a7fd0_3_neja.json\"\n",
    "data = pd.read_csv(f\"{data_path}/{file}\", delimiter=',', index_col=0)\n",
    "data"
   ]
  },
  {
   "cell_type": "code",
   "execution_count": 17,
   "metadata": {},
   "outputs": [
    {
     "name": "stderr",
     "output_type": "stream",
     "text": [
      "/home/mihaeltrajbaric/.local/lib/python3.10/site-packages/matplotlib/cbook/__init__.py:1369: ComplexWarning: Casting complex values to real discards the imaginary part\n",
      "  return np.asarray(x, float)\n"
     ]
    },
    {
     "data": {
      "image/png": "[encoded data removed]",
      "text/plain": [
       "<Figure size 640x480 with 1 Axes>"
      ]
     },
     "metadata": {},
     "output_type": "display_data"
    }
   ],
   "source": [
    "import numpy as np\n",
    "from matplotlib import pyplot as plt\n",
    "from scipy.fft import fft, fftfreq\n",
    "# print(data['X_AWARE'].to_numpy())\n",
    "yf = fft(data['X_AWARE'].to_numpy())\n",
    "# plt.plot(np.abs(yf))\n",
    "plt.plot(yf)\n",
    "plt.show()\n"
   ]
  }
 ],
 "metadata": {
  "kernelspec": {
   "display_name": "Python 3.10.6 64-bit",
   "language": "python",
   "name": "python3"
  },
  "language_info": {
   "codemirror_mode": {
    "name": "ipython",
    "version": 3
   },
   "file_extension": ".py",
   "mimetype": "text/x-python",
   "name": "python",
   "nbconvert_exporter": "python",
   "pygments_lexer": "ipython3",
   "version": "3.10.6"
  },
  "orig_nbformat": 4,
  "vscode": {
   "interpreter": {
    "hash": "e7370f93d1d0cde622a1f8e1c04877d8463912d04d973331ad4851f04de6915a"
   }
  }
 },
 "nbformat": 4,
 "nbformat_minor": 2
}

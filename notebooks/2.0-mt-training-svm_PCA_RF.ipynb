{
 "cells": [
  {
   "attachments": {},
   "cell_type": "markdown",
   "metadata": {},
   "source": [
    "# Training on 2 classes\n",
    "\n",
    "In this experiment, we trained on 2 classes, `all_off` (0), where all the communication is off, and `all_on` (1), where everything is on.\n",
    "\n",
    "We tested in following conditions:\n",
    "\n",
    "Number of test cases: 1\n",
    "\n",
    "Location: inside, in kitchen, next to a computer and several apliances \n",
    "\n",
    "Communication modules (internal producers of electromagnetic emissions)\n",
    "- wifi\n",
    "- bluetooth\n",
    "- mobile antenna\n",
    "\n",
    "Unfortunately, due to miscommunication in our team, `all_off` phase did not completely turn off mobile antenna (we turned off mobile data, but did not turn on airplane mode)"
   ]
  },
  {
   "cell_type": "code",
   "execution_count": 134,
   "metadata": {},
   "outputs": [
    {
     "name": "stdout",
     "output_type": "stream",
     "text": [
      "n_of_train_cases = 2 [6, 1]\n",
      "        X_UnCal    Y_UnCal    Z_UnCal     X_Bias    Y_Bias     Z_Bias  \\\n",
      "0    -56.449398  45.408398 -93.073800 -17.579866  46.09261 -32.968437   \n",
      "1    -55.400200  46.457600 -92.402800 -17.579866  46.09261 -32.968437   \n",
      "2    -56.974000  44.883800 -93.415400 -17.579866  46.09261 -32.968437   \n",
      "3    -47.579998  47.726400 -86.180800 -17.579866  46.09261 -32.968437   \n",
      "4    -56.302998  44.908200 -93.146996 -17.579866  46.09261 -32.968437   \n",
      "...         ...        ...        ...        ...       ...        ...   \n",
      "5993 -34.904198  50.398197 -80.239395 -17.579866  46.09261 -32.968437   \n",
      "5994 -35.599598  50.227398 -79.946600 -17.579866  46.09261 -32.968437   \n",
      "5995 -35.050600  49.715000 -79.800200 -17.579866  46.09261 -32.968437   \n",
      "5996 -35.855800  50.117600 -79.226800 -17.579866  46.09261 -32.968437   \n",
      "5997 -34.050198  50.434800 -79.275600 -17.579866  46.09261 -32.968437   \n",
      "\n",
      "      time_uncalibrated  \n",
      "0          1.671096e+12  \n",
      "1          1.671096e+12  \n",
      "2          1.671096e+12  \n",
      "3          1.671096e+12  \n",
      "4          1.671096e+12  \n",
      "...                 ...  \n",
      "5993       1.671097e+12  \n",
      "5994       1.671097e+12  \n",
      "5995       1.671097e+12  \n",
      "5996       1.671097e+12  \n",
      "5997       1.671097e+12  \n",
      "\n",
      "[5998 rows x 7 columns]\n",
      "2\n"
     ]
    }
   ],
   "source": [
    "import glob\n",
    "import csv\n",
    "import pandas as pd\n",
    "import re\n",
    "import numpy as np\n",
    "\n",
    "csv_path = \"\"\n",
    "data_path = \"../data/interim/2_stages\"\n",
    "files = glob.glob(f\"{data_path}/*uncalibrated.csv\")\n",
    "data_uncalibrated = [pd.read_csv(file, delimiter=',', index_col=0) for file in files]\n",
    "classes = [int(re.search('stage_.+?', filename).group(0).split('_')[-1]) for filename in files]\n",
    "n_of_train_cases = len(classes)\n",
    "print(f\"{n_of_train_cases = }\", classes)\n",
    "print(data_uncalibrated[0])\n",
    "print(len(data_uncalibrated))"
   ]
  },
  {
   "attachments": {},
   "cell_type": "markdown",
   "metadata": {},
   "source": [
    "We are using uncalibrated sensor values. Since the sampling rate during `all_on` phase was 2 times higher, we corrected the data.\n",
    "\n",
    "**Estimated sampling rate: 200Hz**"
   ]
  },
  {
   "cell_type": "code",
   "execution_count": 135,
   "metadata": {},
   "outputs": [],
   "source": [
    "def to_numpy(df: pd.DataFrame):\n",
    "    return df[['X_UnCal', 'Y_UnCal', 'Z_UnCal']].values"
   ]
  },
  {
   "cell_type": "code",
   "execution_count": 136,
   "metadata": {},
   "outputs": [
    {
     "name": "stdout",
     "output_type": "stream",
     "text": [
      "5998\n",
      "5998\n"
     ]
    }
   ],
   "source": [
    "class_0_3d = to_numpy(data_uncalibrated[0])\n",
    "class_1_3d = to_numpy(data_uncalibrated[1][::2])\n",
    "\n",
    "# class_0_3d\n",
    "print(len(class_0_3d))\n",
    "print(len(class_1_3d))"
   ]
  },
  {
   "attachments": {},
   "cell_type": "markdown",
   "metadata": {},
   "source": [
    "We generated sequences of fixed window size (1000 readings, 5 seconds) with stride 100"
   ]
  },
  {
   "cell_type": "code",
   "execution_count": 137,
   "metadata": {},
   "outputs": [
    {
     "name": "stdout",
     "output_type": "stream",
     "text": [
      "[[ 0  9 18]\n",
      " [ 1 10 19]\n",
      " [ 2 11 20]\n",
      " [ 3 12 21]\n",
      " [ 4 13 22]\n",
      " [ 5 14 23]\n",
      " [ 6 15 24]\n",
      " [ 7 16 25]\n",
      " [ 8 17 26]]\n",
      "(2, 4, 3)\n",
      "[[[ 0  9 18]\n",
      "  [ 1 10 19]\n",
      "  [ 2 11 20]\n",
      "  [ 3 12 21]]\n",
      "\n",
      " [[ 3 12 21]\n",
      "  [ 4 13 22]\n",
      "  [ 5 14 23]\n",
      "  [ 6 15 24]]]\n"
     ]
    }
   ],
   "source": [
    "def subsequences(ts, window, stride=2):\n",
    "    assert ts.shape[1] == 3\n",
    "    return np.lib.stride_tricks.sliding_window_view(ts, (window, ts.shape[1]))[:,0,:,:][::stride]\n",
    "\n",
    "test = np.array([\n",
    "    [0, 1, 2, 3, 4, 5, 6, 7, 8],\n",
    "    [9, 10, 11, 12, 13, 14, 15, 16, 17], \n",
    "    [18,19,20,21,22,23,24,25,26]]).transpose()\n",
    "print(test)\n",
    "result = subsequences(test, window=4, stride=3)\n",
    "print(result.shape)\n",
    "print(result)"
   ]
  },
  {
   "attachments": {},
   "cell_type": "markdown",
   "metadata": {},
   "source": [
    "We have a dataset of 50 test cases from every testing mode (`all_on` and `all_off`), every dataset a matrix `(1000, 3)` as `(frequenceies, spatial_dimension_xyz)`"
   ]
  },
  {
   "cell_type": "code",
   "execution_count": 138,
   "metadata": {},
   "outputs": [
    {
     "name": "stdout",
     "output_type": "stream",
     "text": [
      "(50, 1000, 3)\n",
      "(50, 1000, 3)\n"
     ]
    }
   ],
   "source": [
    "test_cases_0 = subsequences(class_0_3d, window=1000, stride=100)\n",
    "test_cases_1 = subsequences(class_1_3d, window=1000, stride=100)\n",
    "print(test_cases_0.shape)\n",
    "print(test_cases_1.shape)"
   ]
  },
  {
   "attachments": {},
   "cell_type": "markdown",
   "metadata": {},
   "source": [
    "We are using `rfftn`, which is `N-dimensional discrete Fourier Transform for real input`"
   ]
  },
  {
   "cell_type": "code",
   "execution_count": 139,
   "metadata": {},
   "outputs": [],
   "source": [
    "from scipy.fft import rfftn\n",
    "def fourier(df, treshold=10):\n",
    "    return rfftn(df, axes=0, norm=\"forward\")[treshold:]"
   ]
  },
  {
   "cell_type": "code",
   "execution_count": 140,
   "metadata": {},
   "outputs": [
    {
     "data": {
      "text/plain": [
       "array([[-3.89750882e+01+0.j        ,  4.85352078e+01+0.j        ,\n",
       "        -8.29530468e+01+0.j        ],\n",
       "       [-1.20560617e+00+1.42817799j, -2.18458987e-01+0.60430655j,\n",
       "        -5.93090107e-01+1.31465085j],\n",
       "       [-8.87296186e-01+0.82105826j, -1.83730692e-01+0.21872908j,\n",
       "        -5.54312004e-01+0.36532047j],\n",
       "       ...,\n",
       "       [-1.09438635e-02+0.03007365j, -5.58393800e-04-0.00222816j,\n",
       "         1.17132753e-02+0.01659711j],\n",
       "       [ 4.56946178e-02+0.00367642j,  8.05905579e-03+0.00622745j,\n",
       "         5.55719169e-02+0.01617404j],\n",
       "       [ 9.81268109e-02+0.j        ,  2.96477344e-02+0.j        ,\n",
       "         7.45587461e-02+0.j        ]])"
      ]
     },
     "execution_count": 140,
     "metadata": {},
     "output_type": "execute_result"
    }
   ],
   "source": [
    "from scipy.fft import rfftn\n",
    "\n",
    "rfftn(class_0_3d, axes=0, norm=\"forward\")"
   ]
  },
  {
   "cell_type": "code",
   "execution_count": 141,
   "metadata": {},
   "outputs": [
    {
     "name": "stdout",
     "output_type": "stream",
     "text": [
      "(50,)\n",
      "(50,)\n",
      "(50, 481, 3)\n",
      "(50, 481, 3)\n"
     ]
    }
   ],
   "source": [
    "from scipy.fft import rfftn\n",
    "cut = 20\n",
    "\n",
    "X_0 = np.array([fourier(test_case, cut) for test_case in test_cases_0])\n",
    "X_1 = np.array([fourier(test_case, cut) for test_case in test_cases_1])\n",
    "\n",
    "Y_0 = np.zeros(X_0.shape[0])\n",
    "Y_1 = np.ones(X_1.shape[0])\n",
    "\n",
    "print(Y_0.shape)\n",
    "print(Y_1.shape)\n",
    "\n",
    "print(X_0.shape)\n",
    "print(X_1.shape)"
   ]
  },
  {
   "attachments": {},
   "cell_type": "markdown",
   "metadata": {},
   "source": [
    "Fourier transform returns complex values, we keep just real ones"
   ]
  },
  {
   "cell_type": "code",
   "execution_count": 142,
   "metadata": {},
   "outputs": [
    {
     "name": "stdout",
     "output_type": "stream",
     "text": [
      "(100, 481, 3)\n",
      "(100,)\n"
     ]
    }
   ],
   "source": [
    "X = np.concatenate((X_0, X_1), axis=0)\n",
    "Y = np.concatenate((Y_0, Y_1), axis=0)\n",
    "\n",
    "# to real values\n",
    "X = np.real(X)\n",
    "\n",
    "print(X.shape)\n",
    "print(Y.shape)\n"
   ]
  },
  {
   "attachments": {},
   "cell_type": "markdown",
   "metadata": {},
   "source": [
    "2 methods for projecting into 1-dim test cases:\n",
    "- just pick one of 3 dims\n",
    "- flatten"
   ]
  },
  {
   "cell_type": "code",
   "execution_count": 143,
   "metadata": {},
   "outputs": [
    {
     "name": "stdout",
     "output_type": "stream",
     "text": [
      "(100, 481)\n",
      "(100, 1443)\n"
     ]
    }
   ],
   "source": [
    "\n",
    "# pick dimension\n",
    "X_dim_0 = X[:,:,1]\n",
    "print(X_dim_0.shape)\n",
    "\n",
    "# flatten\n",
    "X_flatten = np.array([el.flatten('F') for el in X])\n",
    "print(X_flatten.shape)\n",
    "\n",
    "X_to_train = X_dim_0\n",
    "# X_to_train = X_flatten"
   ]
  },
  {
   "attachments": {},
   "cell_type": "markdown",
   "metadata": {},
   "source": [
    "## one dimension, fourier, svm"
   ]
  },
  {
   "cell_type": "code",
   "execution_count": 144,
   "metadata": {},
   "outputs": [
    {
     "name": "stdout",
     "output_type": "stream",
     "text": [
      "(67,)\n",
      "0.6060606060606061\n"
     ]
    },
    {
     "data": {
      "text/html": [
       "<div>\n",
       "<style scoped>\n",
       "    .dataframe tbody tr th:only-of-type {\n",
       "        vertical-align: middle;\n",
       "    }\n",
       "\n",
       "    .dataframe tbody tr th {\n",
       "        vertical-align: top;\n",
       "    }\n",
       "\n",
       "    .dataframe thead th {\n",
       "        text-align: right;\n",
       "    }\n",
       "</style>\n",
       "<table border=\"1\" class=\"dataframe\">\n",
       "  <thead>\n",
       "    <tr style=\"text-align: right;\">\n",
       "      <th></th>\n",
       "      <th>all_off_predicted</th>\n",
       "      <th>all_on_predicted</th>\n",
       "    </tr>\n",
       "  </thead>\n",
       "  <tbody>\n",
       "    <tr>\n",
       "      <th>all_off</th>\n",
       "      <td>6</td>\n",
       "      <td>13</td>\n",
       "    </tr>\n",
       "    <tr>\n",
       "      <th>all_on</th>\n",
       "      <td>0</td>\n",
       "      <td>14</td>\n",
       "    </tr>\n",
       "  </tbody>\n",
       "</table>\n",
       "</div>"
      ],
      "text/plain": [
       "         all_off_predicted  all_on_predicted\n",
       "all_off                  6                13\n",
       "all_on                   0                14"
      ]
     },
     "execution_count": 144,
     "metadata": {},
     "output_type": "execute_result"
    }
   ],
   "source": [
    "from sklearn.model_selection import train_test_split\n",
    "from sklearn.metrics import confusion_matrix\n",
    "from sklearn import svm\n",
    "\n",
    "X_train, X_test, y_train, y_test = train_test_split(X_to_train, Y, test_size=0.33, random_state=42)\n",
    "print(y_train.shape)\n",
    "clf = svm.SVC(decision_function_shape='ovo')\n",
    "clf.fit(X_train, y_train)\n",
    "y_pred = clf.predict(X_test)\n",
    "print(sum([1 for i in range(len(y_pred)) if y_pred[i] == y_test[i]])/len(y_pred))\n",
    "\n",
    "classes_real = [\"all_off\", \"all_on\"]\n",
    "classes_pred = [\"all_off_predicted\", \"all_on_predicted\"]\n",
    "pd.DataFrame(confusion_matrix(y_test, y_pred), classes_real, classes_pred)"
   ]
  },
  {
   "attachments": {},
   "cell_type": "markdown",
   "metadata": {},
   "source": [
    "## 2 classes, fourier + PCA (1443 -> 100 dim)  + SVM"
   ]
  },
  {
   "cell_type": "code",
   "execution_count": 145,
   "metadata": {},
   "outputs": [
    {
     "name": "stdout",
     "output_type": "stream",
     "text": [
      "(100, 1443)\n",
      "(100, 100)\n"
     ]
    }
   ],
   "source": [
    "from sklearn.decomposition import PCA\n",
    "\n",
    "print(X_flatten.shape)\n",
    "\n",
    "pca = PCA(n_components=100)\n",
    "X_PCA =  pca.fit(X_flatten).transform(X_flatten)\n",
    "print(X_PCA.shape)"
   ]
  },
  {
   "cell_type": "code",
   "execution_count": 146,
   "metadata": {},
   "outputs": [
    {
     "name": "stdout",
     "output_type": "stream",
     "text": [
      "(67,)\n",
      "0.5757575757575758\n"
     ]
    },
    {
     "data": {
      "text/html": [
       "<div>\n",
       "<style scoped>\n",
       "    .dataframe tbody tr th:only-of-type {\n",
       "        vertical-align: middle;\n",
       "    }\n",
       "\n",
       "    .dataframe tbody tr th {\n",
       "        vertical-align: top;\n",
       "    }\n",
       "\n",
       "    .dataframe thead th {\n",
       "        text-align: right;\n",
       "    }\n",
       "</style>\n",
       "<table border=\"1\" class=\"dataframe\">\n",
       "  <thead>\n",
       "    <tr style=\"text-align: right;\">\n",
       "      <th></th>\n",
       "      <th>all_off_predicted</th>\n",
       "      <th>all_on_predicted</th>\n",
       "    </tr>\n",
       "  </thead>\n",
       "  <tbody>\n",
       "    <tr>\n",
       "      <th>all_off</th>\n",
       "      <td>5</td>\n",
       "      <td>14</td>\n",
       "    </tr>\n",
       "    <tr>\n",
       "      <th>all_on</th>\n",
       "      <td>0</td>\n",
       "      <td>14</td>\n",
       "    </tr>\n",
       "  </tbody>\n",
       "</table>\n",
       "</div>"
      ],
      "text/plain": [
       "         all_off_predicted  all_on_predicted\n",
       "all_off                  5                14\n",
       "all_on                   0                14"
      ]
     },
     "execution_count": 146,
     "metadata": {},
     "output_type": "execute_result"
    }
   ],
   "source": [
    "from sklearn.model_selection import train_test_split\n",
    "from sklearn.metrics import confusion_matrix\n",
    "from sklearn import svm\n",
    "\n",
    "X_train, X_test, y_train, y_test = train_test_split(X_PCA, Y, test_size=0.33, random_state=42)\n",
    "print(y_train.shape)\n",
    "clf = svm.SVC(decision_function_shape='ovo')\n",
    "clf.fit(X_train, y_train)\n",
    "y_pred = clf.predict(X_test)\n",
    "print(sum([1 for i in range(len(y_pred)) if y_pred[i] == y_test[i]])/len(y_pred))\n",
    "\n",
    "classes_real = [\"all_off\", \"all_on\"]\n",
    "classes_pred = [\"all_off_predicted\", \"all_on_predicted\"]\n",
    "pd.DataFrame(confusion_matrix(y_test, y_pred), classes_real, classes_pred)"
   ]
  },
  {
   "attachments": {},
   "cell_type": "markdown",
   "metadata": {},
   "source": [
    "## 2 classes, Fourier + flattening + RF\n",
    "\n",
    "Fourier analysis. Cut first 20 frequencies. Flatten matrix (freq, 3). Random forrest of depth 2"
   ]
  },
  {
   "cell_type": "code",
   "execution_count": 147,
   "metadata": {},
   "outputs": [
    {
     "name": "stdout",
     "output_type": "stream",
     "text": [
      "0.9696969696969697\n"
     ]
    },
    {
     "data": {
      "text/html": [
       "<div>\n",
       "<style scoped>\n",
       "    .dataframe tbody tr th:only-of-type {\n",
       "        vertical-align: middle;\n",
       "    }\n",
       "\n",
       "    .dataframe tbody tr th {\n",
       "        vertical-align: top;\n",
       "    }\n",
       "\n",
       "    .dataframe thead th {\n",
       "        text-align: right;\n",
       "    }\n",
       "</style>\n",
       "<table border=\"1\" class=\"dataframe\">\n",
       "  <thead>\n",
       "    <tr style=\"text-align: right;\">\n",
       "      <th></th>\n",
       "      <th>all_off_predicted</th>\n",
       "      <th>all_on_predicted</th>\n",
       "    </tr>\n",
       "  </thead>\n",
       "  <tbody>\n",
       "    <tr>\n",
       "      <th>all_off</th>\n",
       "      <td>16</td>\n",
       "      <td>1</td>\n",
       "    </tr>\n",
       "    <tr>\n",
       "      <th>all_on</th>\n",
       "      <td>0</td>\n",
       "      <td>16</td>\n",
       "    </tr>\n",
       "  </tbody>\n",
       "</table>\n",
       "</div>"
      ],
      "text/plain": [
       "         all_off_predicted  all_on_predicted\n",
       "all_off                 16                 1\n",
       "all_on                   0                16"
      ]
     },
     "execution_count": 147,
     "metadata": {},
     "output_type": "execute_result"
    }
   ],
   "source": [
    "from sklearn.ensemble import RandomForestClassifier\n",
    "X_train, X_test, y_train, y_test = train_test_split(X_flatten, Y, test_size=0.33)\n",
    "clf = RandomForestClassifier(max_depth=2)\n",
    "clf.fit(X_train, y_train)\n",
    "y_pred = clf.predict(X_test)\n",
    "print(sum([1 for i in range(len(y_pred)) if y_pred[i] == y_test[i]])/len(y_pred))\n",
    "\n",
    "classes_real = [\"all_off\", \"all_on\"]\n",
    "classes_pred = [\"all_off_predicted\", \"all_on_predicted\"]\n",
    "pd.DataFrame(confusion_matrix(y_test, y_pred), classes_real, classes_pred)"
   ]
  },
  {
   "attachments": {},
   "cell_type": "markdown",
   "metadata": {},
   "source": [
    "## Remarks\n",
    "- RF results could be overfitted (entire dataset from one 60min sampling session)\n",
    "- dimensionality reduction on test-case level is TBD. Could do PCA on every single test case\n",
    "- this should be tested on multiple samplings, multiple phones "
   ]
  }
 ],
 "metadata": {
  "kernelspec": {
   "display_name": ".venv",
   "language": "python",
   "name": "python3"
  },
  "language_info": {
   "codemirror_mode": {
    "name": "ipython",
    "version": 3
   },
   "file_extension": ".py",
   "mimetype": "text/x-python",
   "name": "python",
   "nbconvert_exporter": "python",
   "pygments_lexer": "ipython3",
   "version": "3.10.6 (main, Nov 14 2022, 16:10:14) [GCC 11.3.0]"
  },
  "orig_nbformat": 4,
  "vscode": {
   "interpreter": {
    "hash": "273bcfba3dfbeab7236e82723a0f47f19c1cce854e87adb1bb772743d871fcf3"
   }
  }
 },
 "nbformat": 4,
 "nbformat_minor": 2
}

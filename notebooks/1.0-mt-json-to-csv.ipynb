{
 "cells": [
  {
   "cell_type": "code",
   "execution_count": 1,
   "metadata": {},
   "outputs": [],
   "source": [
    "import json\n",
    "import pandas as pd\n",
    "import glob\n",
    "import uuid\n",
    "data_path = \"../data/raw/2_stages\"\n",
    "interim_data_path = \"../data/interim/2_stages\"\n"
   ]
  },
  {
   "cell_type": "code",
   "execution_count": 2,
   "metadata": {},
   "outputs": [
    {
     "name": "stdout",
     "output_type": "stream",
     "text": [
      "0/2\n",
      "1/2\n"
     ]
    }
   ],
   "source": [
    "files = glob.glob(f\"{data_path}/*\")\n",
    "for i, file_name in enumerate(files):\n",
    "    # print(file_name)\n",
    "    data = json.load(open(file_name, \"r\"))[0]\n",
    "\n",
    "    # reading data\n",
    "    first_timestamp_miliseconds = data[\"time_AWARE\"][0]\n",
    "    last_timestamp_miliseconds = data[\"time_AWARE\"][-1]\n",
    "    time_diff_miliseconds =  last_timestamp_miliseconds - first_timestamp_miliseconds\n",
    "    n_uncalibrated_samples = len(data[\"X_UnCal\"])\n",
    "    diff = time_diff_miliseconds / (n_uncalibrated_samples -1)\n",
    "    data[\"time_uncalibrated\"] = [first_timestamp_miliseconds + i * diff for i in range(n_uncalibrated_samples)]\n",
    "\n",
    "    df_AWARE = pd.DataFrame({k: data[k] for k in [\"X_AWARE\", \"Y_AWARE\", \"Z_AWARE\", \"time_AWARE\"]})\n",
    "    df_uncalibrated = pd.DataFrame({k: data[k] for k in [\"X_UnCal\", \"Y_UnCal\", \"Z_UnCal\", \"X_Bias\", \"Y_Bias\", \"Z_Bias\", \"time_uncalibrated\"]})\n",
    "\n",
    "    df_aware_features = list(df_AWARE.columns)\n",
    "    df_uncalibrated_features = list(df_uncalibrated.columns)\n",
    "    device_id = data['DEVICE_ID_AWARE']\n",
    "    stage = data[\"stage\"]\n",
    "    duration_seconds = time_diff_miliseconds / 1000\n",
    "    aware_sample_rate = df_AWARE.size / duration_seconds\n",
    "    uncalibrated_sample_rate = df_uncalibrated.size / duration_seconds\n",
    "    user_id = file_name.split('_')[-1].split('.')[0]\n",
    "    unique_id = uuid.uuid1()\n",
    "    # print(f\"{device_id = }\")\n",
    "    # print(f\"{stage = }\")\n",
    "    # print(f\"{duration_seconds =}s\")\n",
    "    # print(f\"{aware_sample_rate = : .2f} Hz\")\n",
    "    # print(f\"{df_aware_features = }\")\n",
    "    # print(f\"{uncalibrated_sample_rate = :.2f} Hz\")\n",
    "    # print(f\"{df_uncalibrated_features = }\")\n",
    "    # print(f\"{user_id = }\")\n",
    "    df_AWARE.to_csv(f\"{interim_data_path}/{device_id or 'no_id'}-stage_{stage}-{user_id}-aware.csv\")\n",
    "    df_uncalibrated.to_csv(f\"{interim_data_path}/{device_id or 'no_id'}-stage_{stage}-{user_id}-uncalibrated.csv\")\n",
    "    print(f\"{i}/{len(files)}\")\n"
   ]
  }
 ],
 "metadata": {
  "kernelspec": {
   "display_name": "Python 3.10.6 64-bit",
   "language": "python",
   "name": "python3"
  },
  "language_info": {
   "codemirror_mode": {
    "name": "ipython",
    "version": 3
   },
   "file_extension": ".py",
   "mimetype": "text/x-python",
   "name": "python",
   "nbconvert_exporter": "python",
   "pygments_lexer": "ipython3",
   "version": "3.10.6"
  },
  "orig_nbformat": 4,
  "vscode": {
   "interpreter": {
    "hash": "e7370f93d1d0cde622a1f8e1c04877d8463912d04d973331ad4851f04de6915a"
   }
  }
 },
 "nbformat": 4,
 "nbformat_minor": 2
}

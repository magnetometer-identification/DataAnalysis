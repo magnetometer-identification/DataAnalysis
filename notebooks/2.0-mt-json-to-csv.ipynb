{
 "cells": [
  {
   "cell_type": "code",
   "execution_count": 11,
   "metadata": {},
   "outputs": [
    {
     "name": "stdout",
     "output_type": "stream",
     "text": [
      "Created dir ../data/interim/v4\n"
     ]
    }
   ],
   "source": [
    "import json\n",
    "import pandas as pd\n",
    "import glob\n",
    "import uuid\n",
    "import os\n",
    "data_path = \"../data/raw/v4\"\n",
    "interim_data_path = \"../data/interim/v4\"\n",
    "if not os.path.isdir(interim_data_path):\n",
    "    print(\"Created dir\", interim_data_path)\n",
    "    os.makedirs(interim_data_path)\n"
   ]
  },
  {
   "cell_type": "code",
   "execution_count": 12,
   "metadata": {},
   "outputs": [
    {
     "name": "stdout",
     "output_type": "stream",
     "text": [
      "['../data/raw/v4/Data_03575768cc23b2df_5_milenkoParkWithTraffic.json', '../data/raw/v4/Data_03575768cc23b2df_6_milenkoParkWithTraffic1 .json', '../data/raw/v4/Data_03575768cc23b2df_5_milenkosRoomNearDevicesWithTraffic.json', '../data/raw/v4/Data_03575768cc23b2df_6_milenkosKitchenNotNearDevicesWithTraffic1.json', '../data/raw/v4/Data_03575768cc23b2df_5_milenkosKitchenNotNearDevicesWithTraffic.json', '../data/raw/v4/Data_03575768cc23b2df_6_milenkoParkWithTraffic.json', '../data/raw/v4/Data_03575768cc23b2df_6_milenkosRoomNearDevicesWithTraffic.json', '../data/raw/v4/Data_03575768cc23b2df_6_milenkosRoomNearDevicesWithTraffic1.json', '../data/raw/v4/Data_03575768cc23b2df_5_milenkoParkWithTraffic1 .json', '../data/raw/v4/Data_03575768cc23b2df_6_milenkosKitchenNotNearDevicesWithTraffic.json', '../data/raw/v4/Data_03575768cc23b2df_5_milenkosRoomNearDevicesWithTraffic1.json', '../data/raw/v4/Data_03575768cc23b2df_5_milenkosKitchenNotNearDevicesWithTraffic1.json']\n"
     ]
    }
   ],
   "source": [
    "files = glob.glob(f\"{data_path}/Data*.json\")\n",
    "print(files)\n"
   ]
  },
  {
   "cell_type": "code",
   "execution_count": 13,
   "metadata": {},
   "outputs": [
    {
     "name": "stdout",
     "output_type": "stream",
     "text": [
      "0/12\n",
      "1/12\n",
      "2/12\n",
      "3/12\n",
      "4/12\n",
      "5/12\n",
      "6/12\n",
      "7/12\n",
      "8/12\n",
      "9/12\n",
      "10/12\n",
      "11/12\n"
     ]
    }
   ],
   "source": [
    "\n",
    "for i, file_name in enumerate(files):\n",
    "    # print(file_name)\n",
    "    data = json.load(open(file_name, \"r\"))[0]\n",
    "\n",
    "    # reading data\n",
    "    first_timestamp_miliseconds = data[\"time_UnCal\"][0]\n",
    "    last_timestamp_miliseconds = data[\"time_UnCal\"][-1]\n",
    "    time_diff_miliseconds =  last_timestamp_miliseconds - first_timestamp_miliseconds\n",
    "   \n",
    "    df_uncalibrated = pd.DataFrame({k: data[k] for k in [\"X_UnCal\", \"Y_UnCal\", \"Z_UnCal\", \"X_Bias\", \"Y_Bias\", \"Z_Bias\", \"time_UnCal\", \"Accuracy\"]})\n",
    "\n",
    "    \n",
    "    df_uncalibrated_features = list(df_uncalibrated.columns)\n",
    "    device_id = data['DEVICE_ID']\n",
    "    stage = data[\"stage\"]\n",
    "    duration_seconds = time_diff_miliseconds / 1000\n",
    "    sample_rate = df_uncalibrated.size / duration_seconds\n",
    "    \n",
    "    user_id = file_name.split('_')[-1].split('.')[0]\n",
    "    df_uncalibrated.to_csv(f\"{interim_data_path}/{device_id or 'no_id'}-stage_{stage}-{user_id}-uncalibrated.csv\")\n",
    "    print(f\"{i}/{len(files)}\")\n"
   ]
  },
  {
   "cell_type": "code",
   "execution_count": 14,
   "metadata": {},
   "outputs": [
    {
     "name": "stdout",
     "output_type": "stream",
     "text": [
      "{'title': 'V4 data', 'description': 'V4 data for 2 stages (all_on, 6, all_off, 5) in kitchen and room and park', 'author': 'Milenko', 'places': ['room', 'kitchen', 'park'], 'stages': 2, 'traffic': True, 'format': 'raw', 'created': '2022-12-31T7:51:31.625Z'}\n"
     ]
    }
   ],
   "source": [
    "# create metadata file\n",
    "metadata = json.load(open(f\"{data_path}/metadata.json\",\"r\"))\n",
    "print(metadata)\n",
    "metadata['format'] = \"interim\"\n",
    "\n",
    "# Serializing json\n",
    "json_object = json.dumps(metadata, indent=4)\n",
    " \n",
    "# Writing to sample.json\n",
    "with open(f\"{interim_data_path}/metadata.json\", \"w\") as outfile:\n",
    "    outfile.write(json_object)"
   ]
  }
 ],
 "metadata": {
  "kernelspec": {
   "display_name": ".venv",
   "language": "python",
   "name": "python3"
  },
  "language_info": {
   "codemirror_mode": {
    "name": "ipython",
    "version": 3
   },
   "file_extension": ".py",
   "mimetype": "text/x-python",
   "name": "python",
   "nbconvert_exporter": "python",
   "pygments_lexer": "ipython3",
   "version": "3.10.6"
  },
  "orig_nbformat": 4,
  "vscode": {
   "interpreter": {
    "hash": "e965f474544900324d9a300f886957f21180fd8355baf1bc8a33e31084e23186"
   }
  }
 },
 "nbformat": 4,
 "nbformat_minor": 2
}

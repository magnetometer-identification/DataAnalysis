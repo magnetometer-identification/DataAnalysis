{
 "cells": [
  {
   "cell_type": "code",
   "execution_count": 35,
   "metadata": {},
   "outputs": [
    {
     "name": "stdout",
     "output_type": "stream",
     "text": [
      "n_of_train_cases = 2 [6, 1]\n",
      "        X_UnCal    Y_UnCal    Z_UnCal     X_Bias    Y_Bias     Z_Bias  \\\n",
      "0    -56.449398  45.408398 -93.073800 -17.579866  46.09261 -32.968437   \n",
      "1    -55.400200  46.457600 -92.402800 -17.579866  46.09261 -32.968437   \n",
      "2    -56.974000  44.883800 -93.415400 -17.579866  46.09261 -32.968437   \n",
      "3    -47.579998  47.726400 -86.180800 -17.579866  46.09261 -32.968437   \n",
      "4    -56.302998  44.908200 -93.146996 -17.579866  46.09261 -32.968437   \n",
      "...         ...        ...        ...        ...       ...        ...   \n",
      "5993 -34.904198  50.398197 -80.239395 -17.579866  46.09261 -32.968437   \n",
      "5994 -35.599598  50.227398 -79.946600 -17.579866  46.09261 -32.968437   \n",
      "5995 -35.050600  49.715000 -79.800200 -17.579866  46.09261 -32.968437   \n",
      "5996 -35.855800  50.117600 -79.226800 -17.579866  46.09261 -32.968437   \n",
      "5997 -34.050198  50.434800 -79.275600 -17.579866  46.09261 -32.968437   \n",
      "\n",
      "      time_uncalibrated  \n",
      "0          1.671096e+12  \n",
      "1          1.671096e+12  \n",
      "2          1.671096e+12  \n",
      "3          1.671096e+12  \n",
      "4          1.671096e+12  \n",
      "...                 ...  \n",
      "5993       1.671097e+12  \n",
      "5994       1.671097e+12  \n",
      "5995       1.671097e+12  \n",
      "5996       1.671097e+12  \n",
      "5997       1.671097e+12  \n",
      "\n",
      "[5998 rows x 7 columns]\n",
      "2\n"
     ]
    }
   ],
   "source": [
    "import glob\n",
    "import csv\n",
    "import pandas as pd\n",
    "import re\n",
    "import numpy as np\n",
    "\n",
    "csv_path = \"\"\n",
    "data_path = \"../data/interim/2_stages\"\n",
    "files = glob.glob(f\"{data_path}/*uncalibrated.csv\")\n",
    "data_uncalibrated = [pd.read_csv(file, delimiter=',', index_col=0) for file in files]\n",
    "classes = [int(re.search('stage_.+?', filename).group(0).split('_')[-1]) for filename in files]\n",
    "n_of_train_cases = len(classes)\n",
    "print(f\"{n_of_train_cases = }\", classes)\n",
    "print(data_uncalibrated[0])\n",
    "print(len(data_uncalibrated))"
   ]
  },
  {
   "cell_type": "code",
   "execution_count": 36,
   "metadata": {},
   "outputs": [],
   "source": [
    "def to_numpy(df: pd.DataFrame):\n",
    "    return df[['X_UnCal', 'Y_UnCal', 'Z_UnCal']].values"
   ]
  },
  {
   "cell_type": "code",
   "execution_count": 89,
   "metadata": {},
   "outputs": [
    {
     "data": {
      "text/plain": [
       "array([[-56.449398,  45.408398, -93.0738  ],\n",
       "       [-55.4002  ,  46.4576  , -92.4028  ],\n",
       "       [-56.974   ,  44.8838  , -93.4154  ],\n",
       "       ...,\n",
       "       [-35.0506  ,  49.715   , -79.8002  ],\n",
       "       [-35.8558  ,  50.1176  , -79.2268  ],\n",
       "       [-34.050198,  50.4348  , -79.2756  ]])"
      ]
     },
     "execution_count": 89,
     "metadata": {},
     "output_type": "execute_result"
    }
   ],
   "source": [
    "class_0_3d = to_numpy(data_uncalibrated[0])\n",
    "class_1_3d = to_numpy(data_uncalibrated[1])\n",
    "\n",
    "class_0_3d\n",
    "#len(class_1_3d)\n",
    "#print(class_0_3d)"
   ]
  },
  {
   "cell_type": "code",
   "execution_count": 111,
   "metadata": {},
   "outputs": [
    {
     "name": "stdout",
     "output_type": "stream",
     "text": [
      "[[ 0  9 18]\n",
      " [ 1 10 19]\n",
      " [ 2 11 20]\n",
      " [ 3 12 21]\n",
      " [ 4 13 22]\n",
      " [ 5 14 23]\n",
      " [ 6 15 24]\n",
      " [ 7 16 25]\n",
      " [ 8 17 26]]\n",
      "(2, 4, 3)\n",
      "[[[ 0  9 18]\n",
      "  [ 1 10 19]\n",
      "  [ 2 11 20]\n",
      "  [ 3 12 21]]\n",
      "\n",
      " [[ 3 12 21]\n",
      "  [ 4 13 22]\n",
      "  [ 5 14 23]\n",
      "  [ 6 15 24]]]\n"
     ]
    }
   ],
   "source": [
    "def subsequences(ts, window, stride=2):\n",
    "    assert ts.shape[1] == 3\n",
    "    return np.lib.stride_tricks.sliding_window_view(ts, (window, ts.shape[1]))[:,0,:,:][::stride]\n",
    "\n",
    "test = np.array([\n",
    "    [0, 1, 2, 3, 4, 5, 6, 7, 8],\n",
    "    [9, 10, 11, 12, 13, 14, 15, 16, 17], \n",
    "    [18,19,20,21,22,23,24,25,26]]).transpose()\n",
    "print(test)\n",
    "result = subsequences(test, window=4, stride=3)\n",
    "print(result.shape)\n",
    "print(result)"
   ]
  },
  {
   "cell_type": "code",
   "execution_count": 128,
   "metadata": {},
   "outputs": [
    {
     "name": "stdout",
     "output_type": "stream",
     "text": [
      "(55, 500, 3)\n",
      "(115, 500, 3)\n"
     ]
    }
   ],
   "source": [
    "test_cases_0 = subsequences(class_0_3d, window=500, stride=100)\n",
    "test_cases_1 = subsequences(class_1_3d, window=500, stride=100)\n",
    "print(test_cases_0.shape)\n",
    "print(test_cases_1.shape)"
   ]
  },
  {
   "cell_type": "code",
   "execution_count": 130,
   "metadata": {},
   "outputs": [],
   "source": [
    "from scipy.fft import rfftn\n",
    "def fourier(df):\n",
    "    return rfftn(df, axes=0, norm=\"forward\")"
   ]
  },
  {
   "cell_type": "code",
   "execution_count": 124,
   "metadata": {},
   "outputs": [
    {
     "data": {
      "text/plain": [
       "array([[-3.89750882e+01+0.j        ,  4.85352078e+01+0.j        ,\n",
       "        -8.29530468e+01+0.j        ],\n",
       "       [-1.20560617e+00+1.42817799j, -2.18458987e-01+0.60430655j,\n",
       "        -5.93090107e-01+1.31465085j],\n",
       "       [-8.87296186e-01+0.82105826j, -1.83730692e-01+0.21872908j,\n",
       "        -5.54312004e-01+0.36532047j],\n",
       "       ...,\n",
       "       [-1.09438635e-02+0.03007365j, -5.58393800e-04-0.00222816j,\n",
       "         1.17132753e-02+0.01659711j],\n",
       "       [ 4.56946178e-02+0.00367642j,  8.05905579e-03+0.00622745j,\n",
       "         5.55719169e-02+0.01617404j],\n",
       "       [ 9.81268109e-02+0.j        ,  2.96477344e-02+0.j        ,\n",
       "         7.45587461e-02+0.j        ]])"
      ]
     },
     "execution_count": 124,
     "metadata": {},
     "output_type": "execute_result"
    }
   ],
   "source": [
    "from scipy.fft import rfftn\n",
    "\n",
    "rfftn(class_0_3d, axes=0, norm=\"forward\")"
   ]
  },
  {
   "cell_type": "code",
   "execution_count": 153,
   "metadata": {},
   "outputs": [
    {
     "name": "stdout",
     "output_type": "stream",
     "text": [
      "(55,)\n",
      "(115,)\n",
      "(55, 251, 3)\n",
      "(115, 251, 3)\n"
     ]
    }
   ],
   "source": [
    "from scipy.fft import rfftn\n",
    "\n",
    "X_0 = np.array([fourier(test_case) for test_case in test_cases_0])\n",
    "X_1 = np.array([fourier(test_case) for test_case in test_cases_1])\n",
    "\n",
    "Y_0 = np.zeros(X_0.shape[0])\n",
    "Y_1 = np.ones(X_1.shape[0])\n",
    "\n",
    "print(Y_0.shape)\n",
    "print(Y_1.shape)\n",
    "\n",
    "print(X_0.shape)\n",
    "print(X_1.shape)"
   ]
  },
  {
   "cell_type": "code",
   "execution_count": 158,
   "metadata": {},
   "outputs": [
    {
     "name": "stdout",
     "output_type": "stream",
     "text": [
      "(170, 251, 3)\n",
      "(170,)\n"
     ]
    }
   ],
   "source": [
    "X = np.concatenate((X_0, X_1), axis=0)\n",
    "Y = np.concatenate((Y_0, Y_1), axis=0)\n",
    "\n",
    "# to real values\n",
    "X = np.real(X)\n",
    "\n",
    "print(X.shape)\n",
    "print(Y.shape)"
   ]
  },
  {
   "cell_type": "code",
   "execution_count": 159,
   "metadata": {},
   "outputs": [
    {
     "name": "stdout",
     "output_type": "stream",
     "text": [
      "(170, 251)\n"
     ]
    }
   ],
   "source": [
    "X = X[:,:,1]\n",
    "print(X.shape)"
   ]
  },
  {
   "cell_type": "code",
   "execution_count": 160,
   "metadata": {},
   "outputs": [
    {
     "name": "stdout",
     "output_type": "stream",
     "text": [
      "(113,)\n",
      "0.6666666666666666\n",
      "[1. 1. 1. 1. 1. 1. 1. 1. 1. 1. 1. 1. 1. 1. 1. 1. 1. 1. 1. 1. 1. 1. 1. 1.\n",
      " 1. 1. 1. 1. 1. 1. 1. 1. 1. 1. 1. 1. 1. 1. 1. 1. 1. 1. 1. 1. 1. 1. 1. 1.\n",
      " 1. 1. 1. 1. 1. 1. 1. 1. 1.]\n",
      "[1. 0. 1. 0. 1. 1. 1. 0. 1. 1. 0. 1. 1. 0. 1. 1. 0. 1. 1. 1. 0. 0. 0. 0.\n",
      " 0. 0. 1. 1. 1. 1. 0. 1. 1. 1. 1. 1. 0. 1. 1. 1. 1. 1. 0. 1. 1. 1. 1. 0.\n",
      " 1. 0. 1. 1. 1. 0. 1. 1. 0.]\n"
     ]
    }
   ],
   "source": [
    "from sklearn.model_selection import train_test_split\n",
    "from sklearn import svm\n",
    "X_train, X_test, y_train, y_test = train_test_split(X, Y, test_size=0.33, random_state=42)\n",
    "print(y_train.shape)\n",
    "clf = svm.SVC(decision_function_shape='ovo')\n",
    "clf.fit(X_train, y_train)\n",
    "y_pred = clf.predict(X_test)\n",
    "print(sum([1 for i in range(len(y_pred)) if y_pred[i] == y_test[i]])/len(y_pred))\n",
    "print(y_pred)\n",
    "print(y_test)"
   ]
  },
  {
   "cell_type": "code",
   "execution_count": null,
   "metadata": {},
   "outputs": [],
   "source": []
  }
 ],
 "metadata": {
  "kernelspec": {
   "display_name": "Python 3",
   "language": "python",
   "name": "python3"
  },
  "language_info": {
   "codemirror_mode": {
    "name": "ipython",
    "version": 3
   },
   "file_extension": ".py",
   "mimetype": "text/x-python",
   "name": "python",
   "nbconvert_exporter": "python",
   "pygments_lexer": "ipython3",
   "version": "3.10.6"
  },
  "orig_nbformat": 4,
  "vscode": {
   "interpreter": {
    "hash": "e7370f93d1d0cde622a1f8e1c04877d8463912d04d973331ad4851f04de6915a"
   }
  }
 },
 "nbformat": 4,
 "nbformat_minor": 2
}

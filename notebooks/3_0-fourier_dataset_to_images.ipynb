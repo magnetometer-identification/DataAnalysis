{
 "cells": [
  {
   "cell_type": "code",
   "execution_count": 47,
   "metadata": {},
   "outputs": [],
   "source": [
    "import os\n",
    "import pandas as pd\n",
    "import numpy as np\n",
    "import glob\n",
    "import json\n",
    "input_dataset_path = '../data/processed/v4-2_stages-fourier_window_big.csv'\n",
    "out_path_off = '../data/processed/spectral/05'\n",
    "out_path_on = '../data/processed/spectral/06'\n",
    "if not os.path.exists(out_path_off):\n",
    "    os.makedirs(out_path_off)\n",
    "if not os.path.exists(out_path_on):\n",
    "    os.makedirs(out_path_on)\n"
   ]
  },
  {
   "cell_type": "code",
   "execution_count": 17,
   "metadata": {},
   "outputs": [
    {
     "data": {
      "text/plain": [
       "['milenkosRoomNearDevicesWithTraffic1',\n",
       " 'milenkoParkWithTraffic',\n",
       " 'milenkosKitchenNotNearDevicesWithTraffic',\n",
       " 'milenkosRoomNearDevicesWithTraffic',\n",
       " 'milenkoParkWithTraffic1 ',\n",
       " 'milenkosKitchenNotNearDevicesWithTraffic1']"
      ]
     },
     "execution_count": 17,
     "metadata": {},
     "output_type": "execute_result"
    }
   ],
   "source": [
    "df = pd.read_csv(input_dataset_path)\n",
    "test_cases = list(set([name.split('_')[0] for name in df['Name'].to_list()]))\n",
    "test_cases"
   ]
  },
  {
   "cell_type": "code",
   "execution_count": 20,
   "metadata": {},
   "outputs": [],
   "source": [
    "df_on = df[df['Label'] == 6]\n",
    "df_off = df[df['Label'] == 5]"
   ]
  },
  {
   "cell_type": "code",
   "execution_count": 40,
   "metadata": {},
   "outputs": [
    {
     "data": {
      "text/plain": [
       "1.1539159217475337"
      ]
     },
     "execution_count": 40,
     "metadata": {},
     "output_type": "execute_result"
    }
   ],
   "source": [
    "img = df_on[df_on['Name'].str.contains(test_cases[0])].iloc[:,4:].to_numpy().transpose()\n",
    "np.max(img)"
   ]
  },
  {
   "cell_type": "code",
   "execution_count": 48,
   "metadata": {},
   "outputs": [],
   "source": [
    "import matplotlib.pyplot as plt\n",
    "import matplotlib.image\n",
    "\n",
    "for test_case in test_cases:\n",
    "    img = df_on[df_on['Name'].str.contains(test_cases[0])].iloc[:,4:].to_numpy().transpose()\n",
    "    matplotlib.image.imsave(f\"{out_path_on}/{test_case}-on.png\", img)\n",
    "    \n",
    "    img = df_off[df_off['Name'].str.contains(test_cases[0])].iloc[:,4:].to_numpy().transpose()\n",
    "    matplotlib.image.imsave(f\"{out_path_off}/{test_case}-off.png\", img)\n"
   ]
  }
 ],
 "metadata": {
  "kernelspec": {
   "display_name": ".venv",
   "language": "python",
   "name": "python3"
  },
  "language_info": {
   "codemirror_mode": {
    "name": "ipython",
    "version": 3
   },
   "file_extension": ".py",
   "mimetype": "text/x-python",
   "name": "python",
   "nbconvert_exporter": "python",
   "pygments_lexer": "ipython3",
   "version": "3.10.6"
  },
  "orig_nbformat": 4,
  "vscode": {
   "interpreter": {
    "hash": "e965f474544900324d9a300f886957f21180fd8355baf1bc8a33e31084e23186"
   }
  }
 },
 "nbformat": 4,
 "nbformat_minor": 2
}

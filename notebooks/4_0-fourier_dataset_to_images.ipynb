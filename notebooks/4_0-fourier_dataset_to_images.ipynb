{
 "cells": [
  {
   "cell_type": "code",
   "execution_count": 7,
   "metadata": {},
   "outputs": [],
   "source": [
    "import os\n",
    "import pandas as pd\n",
    "import numpy as np\n",
    "import glob\n",
    "import json\n",
    "input_dataset_path = '../data/processed/v5-2_stages-fourier_window_big.csv'\n",
    "out_path_off = '../data/processed/spectral/05'\n",
    "out_path_on = '../data/processed/spectral/06'\n",
    "if not os.path.exists(out_path_off):\n",
    "    os.makedirs(out_path_off)\n",
    "if not os.path.exists(out_path_on):\n",
    "    os.makedirs(out_path_on)\n"
   ]
  },
  {
   "cell_type": "code",
   "execution_count": 8,
   "metadata": {},
   "outputs": [
    {
     "data": {
      "text/plain": [
       "['spelaMilenkosKitchenTrafficTable3_',\n",
       " 'milenkosRoomTrafficTable2_',\n",
       " 'milenkosRoomTrafficBed2_',\n",
       " 'spelaMilenkosKitchenTrafficTable1_',\n",
       " 'NadasBathroomWithTrafficOrient1_',\n",
       " 'PiXmilenkosRoomTrafficTable7_',\n",
       " 'spelaMilenkosKitchenTrafficTable2_',\n",
       " 'spelaMilenkosKitchenTrafficTable4_',\n",
       " 'spelaMilenkosRoomTrafficTable2_',\n",
       " 'LATERNAWithTruffic_',\n",
       " 'NadasKitchenWithTrafficOrient2_',\n",
       " 'LATERNAresorantWithTrafic_',\n",
       " 'milenkosRoomTrafficBed3_',\n",
       " 'spelaMilenkosRoomTrafficTable3_',\n",
       " 'PiXmilenkosRoomTrafficTable4_',\n",
       " 'PiXmilenkosRoomTrafficTable1_',\n",
       " 'milenkosRoomWithTrafficDifferentOrentationWithPousesInRuns2_',\n",
       " 'NadasLivingRoomWithTraffic_',\n",
       " 'milenkosRoomTrafficTable3_',\n",
       " 'milenkosRoomEithTrafficDifferentOrentationWithPousesInRuns3_',\n",
       " 'PiXmilenkosRoomTrafficTable3_',\n",
       " 'PiXmilenkosRoomTrafficTable2_',\n",
       " 'PiXmilenkosRoomTrafficTable5_',\n",
       " 'milenkosRoomTrafficTable_',\n",
       " 'LATERNAWithTraffic2_',\n",
       " 'MihasLivingRoom_',\n",
       " 'NadasKitchenWithTrafficOrient3_',\n",
       " 'NadasLivingRoomWithTrafficOrient2_',\n",
       " 'milenkosRoomTrafficBed1_',\n",
       " 'spelaMilenkosRoomTrafficTable1_',\n",
       " 'NadasLivingRoomWithTrafficOrient3_',\n",
       " 'NadasKitchenWithTraffic_',\n",
       " 'milenkosRoomWithTrafficDifferentOrentationWithPousesInRuns_',\n",
       " 'PiXmilenkosRoomTrafficTable6_']"
      ]
     },
     "execution_count": 8,
     "metadata": {},
     "output_type": "execute_result"
    }
   ],
   "source": [
    "df = pd.read_csv(input_dataset_path)\n",
    "test_cases = list(set([name.split('_')[0] + '_' for name in df['name'].to_list()]))\n",
    "test_cases"
   ]
  },
  {
   "cell_type": "code",
   "execution_count": 9,
   "metadata": {},
   "outputs": [],
   "source": [
    "df_on = df[df['label'] == 6]\n",
    "df_off = df[df['label'] == 5]"
   ]
  },
  {
   "cell_type": "code",
   "execution_count": 10,
   "metadata": {},
   "outputs": [
    {
     "data": {
      "text/plain": [
       "0.707666029321041"
      ]
     },
     "execution_count": 10,
     "metadata": {},
     "output_type": "execute_result"
    }
   ],
   "source": [
    "img = df_on[df_on['name'].str.contains(test_cases[0])].iloc[:,6:].to_numpy().transpose()\n",
    "np.max(img)"
   ]
  },
  {
   "cell_type": "code",
   "execution_count": 11,
   "metadata": {},
   "outputs": [
    {
     "name": "stdout",
     "output_type": "stream",
     "text": [
      "(399, 55)\n",
      "(800, 55)\n",
      "(557, 55)\n",
      "(399, 55)\n",
      "(100, 55)\n",
      "(401, 55)\n",
      "(399, 55)\n",
      "(399, 55)\n",
      "(399, 55)\n",
      "(558, 55)\n",
      "(101, 55)\n",
      "(558, 55)\n",
      "(557, 55)\n",
      "(399, 55)\n",
      "(400, 55)\n",
      "(400, 55)\n",
      "(559, 55)\n",
      "(100, 55)\n",
      "(958, 55)\n",
      "(557, 55)\n",
      "(401, 55)\n",
      "(400, 55)\n",
      "(401, 55)\n",
      "(400, 55)\n",
      "(557, 55)\n",
      "(100, 55)\n",
      "(100, 55)\n",
      "(101, 55)\n",
      "(559, 55)\n",
      "(399, 55)\n",
      "(100, 55)\n",
      "(101, 55)\n",
      "(559, 55)\n",
      "(401, 55)\n"
     ]
    }
   ],
   "source": [
    "for test_case in test_cases:\n",
    "    print(df_on[df_on['name'].str.contains(test_case)].shape)"
   ]
  },
  {
   "cell_type": "code",
   "execution_count": 12,
   "metadata": {},
   "outputs": [],
   "source": [
    "import matplotlib.pyplot as plt\n",
    "import matplotlib.image\n",
    "\n",
    "for test_case in test_cases:\n",
    "    device_id = df_on[df_on['name'].str.contains(test_case)]['device_id'].iloc[0]\n",
    "    location = df_on[df_on['name'].str.contains(test_case)]['location'].iloc[0]\n",
    "\n",
    "    img = df_on[df_on['name'].str.contains(test_case)].iloc[:,6:].to_numpy().transpose()\n",
    "    matplotlib.image.imsave(f\"{out_path_on}/{test_case}{location}_{device_id}_on.png\", img)\n",
    "    \n",
    "    img = df_off[df_off['name'].str.contains(test_case)].iloc[:,6:].to_numpy().transpose()\n",
    "    matplotlib.image.imsave(f\"{out_path_off}/{test_case}{location}_{device_id}_off.png\", img)\n"
   ]
  }
 ],
 "metadata": {
  "kernelspec": {
   "display_name": ".venv",
   "language": "python",
   "name": "python3"
  },
  "language_info": {
   "codemirror_mode": {
    "name": "ipython",
    "version": 3
   },
   "file_extension": ".py",
   "mimetype": "text/x-python",
   "name": "python",
   "nbconvert_exporter": "python",
   "pygments_lexer": "ipython3",
   "version": "3.10.6"
  },
  "orig_nbformat": 4,
  "vscode": {
   "interpreter": {
    "hash": "e965f474544900324d9a300f886957f21180fd8355baf1bc8a33e31084e23186"
   }
  }
 },
 "nbformat": 4,
 "nbformat_minor": 2
}

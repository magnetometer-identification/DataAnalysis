{
 "cells": [
  {
   "attachments": {},
   "cell_type": "markdown",
   "metadata": {},
   "source": [
    "# Experimenting with new normalization\n",
    "\n",
    "- this playbook contains the code for the experimentation with new device"
   ]
  },
  {
   "cell_type": "code",
   "execution_count": 1,
   "metadata": {},
   "outputs": [],
   "source": [
    "import os\n",
    "import csv\n",
    "import pandas as pd\n",
    "\n",
    "version = \"v6\"\n",
    "dataset_path = f\"../data/processed/\"\n",
    "\n",
    "# files\n",
    "filename_s = f\"{version}-2_stages-full_statistical.csv\"\n",
    "filename_s_n = f\"{version}-2_stages-full_statistical_normalized.csv\"\n",
    "filename_s_s = f\"{version}-2_stages-full_statistical_standardized.csv\"\n",
    "filename_f = f\"{version}-2_stages-fourier_int_XYZ.csv\"\n",
    "filename_f_n = f\"{version}-2_stages-fourier_normalized_int_XYZ.csv\"\n",
    "filename_f_s = f\"{version}-2_stages-fourier_standardized_XYZ.csv\"\n",
    "\n",
    "\n",
    "# datasets\n",
    "df_statistical = pd.read_csv(f\"{dataset_path}/{filename_s}\")\n",
    "df_statistical_normalized = pd.read_csv(f\"{dataset_path}/{filename_s_n}\")\n",
    "df_statistical_standardized = pd.read_csv(f\"{dataset_path}/{filename_s_s}\")\n",
    "df_spectral = pd.read_csv(f\"{dataset_path}/{filename_f}\")\n",
    "df_spectral_normalized = pd.read_csv(f\"{dataset_path}/{filename_f_n}\")\n",
    "df_spectral_standardized = pd.read_csv(f\"{dataset_path}/{filename_f_s}\")"
   ]
  },
  {
   "cell_type": "code",
   "execution_count": 2,
   "metadata": {},
   "outputs": [],
   "source": [
    "from lib import device_mapping, reverse_device_mapping\n",
    "\n",
    "# ------------------------------------------------\n",
    "# choice of dataset\n",
    "\n",
    "# df = df_statistical # 56, 67\n",
    "# df = df_statistical_normalized  # 54 63\n",
    "# df = df_statistical_standardized    # 66, 72\n",
    "# df = df_spectral    # 74, 77\n",
    "# df = df_spectral_normalized #77 78\n",
    "# df = df_spectral_standardized   #89, 80\n",
    "datasets = [df_spectral, df_spectral_normalized, df_spectral_standardized]\n",
    "dataset_names = [\"raw\", \"normalized\", \"standardized\"]\n",
    "\n",
    "# ------------------------------------------------\n",
    "# choice of phone\n",
    "\n",
    "# GooglePixel6:        03575768cc23b2df\n",
    "# RedmiNote8PRO:       4aaf95a621ccf092\n",
    "# SamsungGalaxyA51:    029a77f196804217\n",
    "# SamsungGalaxyS6:     e08d976ac75c011e\n",
    "\n",
    "\n",
    "# df = df[df['device_id'].isin(reverse_device_mapping(['RedmiNote8PRO']))]\n",
    "# df = df[df['device_id'].isin(reverse_device_mapping(['SamsungGalaxyS6']))]\n",
    "# df = df[df['device_id'].isin(reverse_device_mapping(['GooglePixel6', 'RedmiNote8PRO']))]\n",
    "# df = df[df['device_id'].isin(reverse_device_mapping(['SamsungGalaxyA51', 'SamsungGalaxyS6']))]\n",
    "\n",
    "# ------------------------------------------------\n",
    "# choice of locations to include TOOD\n",
    "\n",
    "# number of cases per device\n",
    "# df['device_id'].value_counts()\n"
   ]
  },
  {
   "cell_type": "code",
   "execution_count": 3,
   "metadata": {},
   "outputs": [],
   "source": [
    "def map_classes(x):\n",
    "    if x == 5:\n",
    "        return 1\n",
    "    return 0\n",
    "def map_back_classes(x):\n",
    "    if x == 1:\n",
    "        return 5\n",
    "    return 6"
   ]
  },
  {
   "cell_type": "code",
   "execution_count": 4,
   "metadata": {},
   "outputs": [
    {
     "name": "stdout",
     "output_type": "stream",
     "text": [
      "03575768cc23b2df\n"
     ]
    },
    {
     "data": {
      "text/plain": [
       "0        False\n",
       "1        False\n",
       "2        False\n",
       "3        False\n",
       "4        False\n",
       "         ...  \n",
       "37414    False\n",
       "37415    False\n",
       "37416    False\n",
       "37417    False\n",
       "37418    False\n",
       "Name: device_id, Length: 37419, dtype: bool"
      ]
     },
     "execution_count": 4,
     "metadata": {},
     "output_type": "execute_result"
    }
   ],
   "source": [
    "df = datasets[0]\n",
    "# 03575768cc23b2df\n",
    "device = \"GooglePixel6\"\n",
    "device_id = reverse_device_mapping(device)[0]\n",
    "print(device_id)\n",
    "df['device_id'] == device_id"
   ]
  },
  {
   "cell_type": "code",
   "execution_count": 5,
   "metadata": {},
   "outputs": [
    {
     "name": "stdout",
     "output_type": "stream",
     "text": [
      "['GooglePixel6', 0.5291985501409585, 0.5014671192681663, 0.5915079684713193]\n",
      "['GooglePixel6', 0.7895978367182556, 0.5872504458891894, 0.8100799723836373]\n",
      "['RedmiNote8PRO', 0.8122270742358079, 0.24828446662507797, 0.5009357454772302]\n",
      "['RedmiNote8PRO', 0.66126013724267, 0.5009357454772302, 0.5009357454772302]\n",
      "['SamsungGalaxyA51', 0.5558933582787652, 0.5515279077019021, 0.6269098846273776]\n",
      "['SamsungGalaxyA51', 0.5732772061116308, 0.5490333645151232, 0.7143748051138136]\n",
      "['SamsungGalaxyS6', 0.5341537364009274, 0.5097199928660603, 0.478330658105939]\n",
      "['SamsungGalaxyS6', 0.4893882646691635, 0.5359372213304797, 0.7417513822008204]\n"
     ]
    },
    {
     "ename": "NameError",
     "evalue": "name 'results_svm_RF' is not defined",
     "output_type": "error",
     "traceback": [
      "\u001b[0;31m---------------------------------------------------------------------------\u001b[0m",
      "\u001b[0;31mNameError\u001b[0m                                 Traceback (most recent call last)",
      "Cell \u001b[0;32mIn [5], line 53\u001b[0m\n\u001b[1;32m     50\u001b[0m     results_rf_all\u001b[39m.\u001b[39mappend(results_RF)\n\u001b[1;32m     52\u001b[0m results_all_svm \u001b[39m=\u001b[39m pd\u001b[39m.\u001b[39mDataFrame(results_svm_all, columns\u001b[39m=\u001b[39m[\u001b[39m'\u001b[39m\u001b[39mDevice\u001b[39m\u001b[39m'\u001b[39m, \u001b[39m\"\u001b[39m\u001b[39mraw\u001b[39m\u001b[39m\"\u001b[39m, \u001b[39m\"\u001b[39m\u001b[39mnormalized\u001b[39m\u001b[39m\"\u001b[39m, \u001b[39m\"\u001b[39m\u001b[39mstandardized\u001b[39m\u001b[39m\"\u001b[39m])\n\u001b[0;32m---> 53\u001b[0m results_all_rf \u001b[39m=\u001b[39m pd\u001b[39m.\u001b[39mDataFrame(results_svm_RF, columns\u001b[39m=\u001b[39m[\u001b[39m'\u001b[39m\u001b[39mDevice\u001b[39m\u001b[39m'\u001b[39m, \u001b[39m\"\u001b[39m\u001b[39mraw\u001b[39m\u001b[39m\"\u001b[39m, \u001b[39m\"\u001b[39m\u001b[39mnormalized\u001b[39m\u001b[39m\"\u001b[39m, \u001b[39m\"\u001b[39m\u001b[39mstandardized\u001b[39m\u001b[39m\"\u001b[39m])\n\u001b[1;32m     54\u001b[0m results_all_svm\n",
      "\u001b[0;31mNameError\u001b[0m: name 'results_svm_RF' is not defined"
     ]
    }
   ],
   "source": [
    "from sklearn import svm\n",
    "from sklearn.ensemble import RandomForestClassifier\n",
    "from sklearn.metrics import f1_score\n",
    "from lib import device_mapping\n",
    "\n",
    "results_svm_all = []\n",
    "results_rf_all = []\n",
    "for device in [\"GooglePixel6\", \"RedmiNote8PRO\", \"SamsungGalaxyA51\",\"SamsungGalaxyS6\"]:\n",
    "    results_svm  = [device]\n",
    "    results_RF  = [device]\n",
    "    for i, dataset in enumerate(datasets):\n",
    "        df = dataset\n",
    "        \n",
    "        dataset_name = dataset_names[i]\n",
    "        # test is one device, train the rest\n",
    "        test = df[df['device_id'] == reverse_device_mapping(device)[0]]\n",
    "        train = df[df['device_id'] != reverse_device_mapping(device)[0]]\n",
    "\n",
    "        # correlation and feature selection\n",
    "        correlation = df.iloc[:, 6:].apply(lambda x: df['label'].corr(x, method=\"pearson\")).abs().sort_values(ascending=False)\n",
    "        selection = correlation[:10].index\n",
    "\n",
    "        y_test = test['label'].to_numpy()\n",
    "        X_test = test[selection].to_numpy()\n",
    "        y_train = train['label'].to_numpy()\n",
    "        X_train = train[selection].to_numpy()\n",
    "\n",
    "        # SVM\n",
    "        clf = svm.SVC(decision_function_shape='ovo')\n",
    "        clf.fit(X_train, y_train)\n",
    "        y_pred = clf.predict(X_test)\n",
    "        acc_svm = sum([1 for i in range(len(y_pred)) if y_pred[i] == y_test[i]])/len(y_pred)\n",
    "        f1_svm = f1_score(list(map(map_classes, y_test)), list(map(map_classes, y_pred)))\n",
    "\n",
    "        # RF\n",
    "        clf = RandomForestClassifier(max_depth=3)\n",
    "        clf.fit(X_train, y_train)\n",
    "        y_pred = clf.predict(X_test)\n",
    "        acc_rf = sum([1 for i in range(len(y_pred)) if y_pred[i] == y_test[i]])/len(y_pred)\n",
    "        f1_rf = f1_score(list(map(map_classes, y_test)), list(map(map_classes, y_pred)))\n",
    "\n",
    "        device_name = device_mapping[test['device_id'].iloc[0]]\n",
    "        location = test['location'].iloc[0]\n",
    "        #results_temp = [device, acc_svm, f1_svm, acc_rf, f1_rf]\n",
    "        results_svm.append(acc_svm)\n",
    "        results_RF.append(acc_rf)\n",
    "    print(results_svm)\n",
    "    print(results_RF)\n",
    "    results_svm_all.append(results_svm)\n",
    "    results_rf_all.append(results_RF)\n",
    "\n",
    "results_all_svm = pd.DataFrame(results_svm_all, columns=['Device', \"raw\", \"normalized\", \"standardized\"])\n",
    "results_all_rf = pd.DataFrame(results_rf_all, columns=['Device', \"raw\", \"normalized\", \"standardized\"])\n",
    "results_all_svm"
   ]
  },
  {
   "cell_type": "code",
   "execution_count": 7,
   "metadata": {},
   "outputs": [
    {
     "data": {
      "text/html": [
       "<div>\n",
       "<style scoped>\n",
       "    .dataframe tbody tr th:only-of-type {\n",
       "        vertical-align: middle;\n",
       "    }\n",
       "\n",
       "    .dataframe tbody tr th {\n",
       "        vertical-align: top;\n",
       "    }\n",
       "\n",
       "    .dataframe thead th {\n",
       "        text-align: right;\n",
       "    }\n",
       "</style>\n",
       "<table border=\"1\" class=\"dataframe\">\n",
       "  <thead>\n",
       "    <tr style=\"text-align: right;\">\n",
       "      <th></th>\n",
       "      <th>Device</th>\n",
       "      <th>raw</th>\n",
       "      <th>normalized</th>\n",
       "      <th>standardized</th>\n",
       "    </tr>\n",
       "  </thead>\n",
       "  <tbody>\n",
       "    <tr>\n",
       "      <th>0</th>\n",
       "      <td>GooglePixel6</td>\n",
       "      <td>0.529199</td>\n",
       "      <td>0.501467</td>\n",
       "      <td>0.591508</td>\n",
       "    </tr>\n",
       "    <tr>\n",
       "      <th>1</th>\n",
       "      <td>RedmiNote8PRO</td>\n",
       "      <td>0.812227</td>\n",
       "      <td>0.248284</td>\n",
       "      <td>0.500936</td>\n",
       "    </tr>\n",
       "    <tr>\n",
       "      <th>2</th>\n",
       "      <td>SamsungGalaxyA51</td>\n",
       "      <td>0.555893</td>\n",
       "      <td>0.551528</td>\n",
       "      <td>0.626910</td>\n",
       "    </tr>\n",
       "    <tr>\n",
       "      <th>3</th>\n",
       "      <td>SamsungGalaxyS6</td>\n",
       "      <td>0.534154</td>\n",
       "      <td>0.509720</td>\n",
       "      <td>0.478331</td>\n",
       "    </tr>\n",
       "  </tbody>\n",
       "</table>\n",
       "</div>"
      ],
      "text/plain": [
       "             Device       raw  normalized  standardized\n",
       "0      GooglePixel6  0.529199    0.501467      0.591508\n",
       "1     RedmiNote8PRO  0.812227    0.248284      0.500936\n",
       "2  SamsungGalaxyA51  0.555893    0.551528      0.626910\n",
       "3   SamsungGalaxyS6  0.534154    0.509720      0.478331"
      ]
     },
     "execution_count": 7,
     "metadata": {},
     "output_type": "execute_result"
    }
   ],
   "source": [
    "results_all_svm"
   ]
  },
  {
   "cell_type": "code",
   "execution_count": 8,
   "metadata": {},
   "outputs": [
    {
     "data": {
      "text/html": [
       "<div>\n",
       "<style scoped>\n",
       "    .dataframe tbody tr th:only-of-type {\n",
       "        vertical-align: middle;\n",
       "    }\n",
       "\n",
       "    .dataframe tbody tr th {\n",
       "        vertical-align: top;\n",
       "    }\n",
       "\n",
       "    .dataframe thead th {\n",
       "        text-align: right;\n",
       "    }\n",
       "</style>\n",
       "<table border=\"1\" class=\"dataframe\">\n",
       "  <thead>\n",
       "    <tr style=\"text-align: right;\">\n",
       "      <th></th>\n",
       "      <th>Device</th>\n",
       "      <th>raw</th>\n",
       "      <th>normalized</th>\n",
       "      <th>standardized</th>\n",
       "    </tr>\n",
       "  </thead>\n",
       "  <tbody>\n",
       "    <tr>\n",
       "      <th>0</th>\n",
       "      <td>GooglePixel6</td>\n",
       "      <td>0.789598</td>\n",
       "      <td>0.587250</td>\n",
       "      <td>0.810080</td>\n",
       "    </tr>\n",
       "    <tr>\n",
       "      <th>1</th>\n",
       "      <td>RedmiNote8PRO</td>\n",
       "      <td>0.661260</td>\n",
       "      <td>0.500936</td>\n",
       "      <td>0.500936</td>\n",
       "    </tr>\n",
       "    <tr>\n",
       "      <th>2</th>\n",
       "      <td>SamsungGalaxyA51</td>\n",
       "      <td>0.573277</td>\n",
       "      <td>0.549033</td>\n",
       "      <td>0.714375</td>\n",
       "    </tr>\n",
       "    <tr>\n",
       "      <th>3</th>\n",
       "      <td>SamsungGalaxyS6</td>\n",
       "      <td>0.489388</td>\n",
       "      <td>0.535937</td>\n",
       "      <td>0.741751</td>\n",
       "    </tr>\n",
       "  </tbody>\n",
       "</table>\n",
       "</div>"
      ],
      "text/plain": [
       "             Device       raw  normalized  standardized\n",
       "0      GooglePixel6  0.789598    0.587250      0.810080\n",
       "1     RedmiNote8PRO  0.661260    0.500936      0.500936\n",
       "2  SamsungGalaxyA51  0.573277    0.549033      0.714375\n",
       "3   SamsungGalaxyS6  0.489388    0.535937      0.741751"
      ]
     },
     "execution_count": 8,
     "metadata": {},
     "output_type": "execute_result"
    }
   ],
   "source": [
    "results_all_rf"
   ]
  },
  {
   "cell_type": "code",
   "execution_count": 9,
   "metadata": {},
   "outputs": [
    {
     "name": "stderr",
     "output_type": "stream",
     "text": [
      "/tmp/ipykernel_112683/2418980478.py:1: FutureWarning: The default value of numeric_only in DataFrame.mean is deprecated. In a future version, it will default to False. In addition, specifying 'numeric_only=None' is deprecated. Select only valid columns or specify the value of numeric_only to silence this warning.\n",
      "  results_all_svm.mean()\n"
     ]
    },
    {
     "data": {
      "text/plain": [
       "raw             0.607868\n",
       "normalized      0.452750\n",
       "standardized    0.549421\n",
       "dtype: float64"
      ]
     },
     "execution_count": 9,
     "metadata": {},
     "output_type": "execute_result"
    }
   ],
   "source": [
    "results_all_svm.mean()"
   ]
  },
  {
   "cell_type": "code",
   "execution_count": 10,
   "metadata": {},
   "outputs": [
    {
     "name": "stderr",
     "output_type": "stream",
     "text": [
      "/tmp/ipykernel_112683/335912808.py:1: FutureWarning: The default value of numeric_only in DataFrame.mean is deprecated. In a future version, it will default to False. In addition, specifying 'numeric_only=None' is deprecated. Select only valid columns or specify the value of numeric_only to silence this warning.\n",
      "  results_all_rf.mean()\n"
     ]
    },
    {
     "data": {
      "text/plain": [
       "raw             0.628381\n",
       "normalized      0.543289\n",
       "standardized    0.691785\n",
       "dtype: float64"
      ]
     },
     "execution_count": 10,
     "metadata": {},
     "output_type": "execute_result"
    }
   ],
   "source": [
    "results_all_rf.mean()"
   ]
  },
  {
   "cell_type": "code",
   "execution_count": 12,
   "metadata": {},
   "outputs": [
    {
     "name": "stdout",
     "output_type": "stream",
     "text": [
      "\\begin{tabular}{lrrr}\n",
      "\\toprule\n",
      "          Device &   raw &  normalized &  standardized \\\\\n",
      "\\midrule\n",
      "    GooglePixel6 & 0.529 &       0.501 &         0.592 \\\\\n",
      "   RedmiNote8PRO & 0.812 &       0.248 &         0.501 \\\\\n",
      "SamsungGalaxyA51 & 0.556 &       0.552 &         0.627 \\\\\n",
      " SamsungGalaxyS6 & 0.534 &       0.510 &         0.478 \\\\\n",
      "\\bottomrule\n",
      "\\end{tabular}\n",
      "\n"
     ]
    },
    {
     "name": "stderr",
     "output_type": "stream",
     "text": [
      "/tmp/ipykernel_112683/1496474157.py:1: FutureWarning: In future versions `DataFrame.to_latex` is expected to utilise the base implementation of `Styler.to_latex` for formatting and rendering. The arguments signature may therefore change. It is recommended instead to use `DataFrame.style.to_latex` which also contains additional functionality.\n",
      "  print(results_all_svm.sort_values(['Device']).round(3).to_latex(index=False))\n"
     ]
    }
   ],
   "source": [
    "print(results_all_svm.sort_values(['Device']).round(3).to_latex(index=False))"
   ]
  },
  {
   "cell_type": "code",
   "execution_count": 13,
   "metadata": {},
   "outputs": [
    {
     "name": "stdout",
     "output_type": "stream",
     "text": [
      "\\begin{tabular}{lrrr}\n",
      "\\toprule\n",
      "          Device &   raw &  normalized &  standardized \\\\\n",
      "\\midrule\n",
      "    GooglePixel6 & 0.529 &       0.501 &         0.592 \\\\\n",
      "   RedmiNote8PRO & 0.812 &       0.248 &         0.501 \\\\\n",
      "SamsungGalaxyA51 & 0.556 &       0.552 &         0.627 \\\\\n",
      " SamsungGalaxyS6 & 0.534 &       0.510 &         0.478 \\\\\n",
      "\\bottomrule\n",
      "\\end{tabular}\n",
      "\n"
     ]
    },
    {
     "name": "stderr",
     "output_type": "stream",
     "text": [
      "/tmp/ipykernel_112683/1496474157.py:1: FutureWarning: In future versions `DataFrame.to_latex` is expected to utilise the base implementation of `Styler.to_latex` for formatting and rendering. The arguments signature may therefore change. It is recommended instead to use `DataFrame.style.to_latex` which also contains additional functionality.\n",
      "  print(results_all_svm.sort_values(['Device']).round(3).to_latex(index=False))\n"
     ]
    }
   ],
   "source": [
    "print(results_all_svm.sort_values(['Device']).round(3).to_latex(index=False))"
   ]
  }
 ],
 "metadata": {
  "kernelspec": {
   "display_name": "Python 3",
   "language": "python",
   "name": "python3"
  },
  "language_info": {
   "codemirror_mode": {
    "name": "ipython",
    "version": 3
   },
   "file_extension": ".py",
   "mimetype": "text/x-python",
   "name": "python",
   "nbconvert_exporter": "python",
   "pygments_lexer": "ipython3",
   "version": "3.10.6"
  },
  "orig_nbformat": 4,
  "vscode": {
   "interpreter": {
    "hash": "e7370f93d1d0cde622a1f8e1c04877d8463912d04d973331ad4851f04de6915a"
   }
  }
 },
 "nbformat": 4,
 "nbformat_minor": 2
}
